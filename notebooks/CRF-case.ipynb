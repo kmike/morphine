{
 "metadata": {
  "name": "",
  "signature": "sha256:360522635d5694830837d388014ce535c51991e725cd712db2cb2958376e98a6"
 },
 "nbformat": 3,
 "nbformat_minor": 0,
 "worksheets": [
  {
   "cells": [
    {
     "cell_type": "code",
     "collapsed": false,
     "input": [
      "import os\n",
      "import sys\n",
      "import glob\n",
      "from itertools import islice, chain\n",
      "from collections import defaultdict\n",
      "from tqdm import tqdm\n",
      "import pycrfsuite\n",
      "import pymorphy2\n",
      "import opencorpora\n",
      "\n",
      "m = pymorphy2.MorphAnalyzer()"
     ],
     "language": "python",
     "metadata": {},
     "outputs": [],
     "prompt_number": 11
    },
    {
     "cell_type": "code",
     "collapsed": false,
     "input": [
      "!mkdir -p models\n",
      "!mkdir -p results"
     ],
     "language": "python",
     "metadata": {},
     "outputs": [],
     "prompt_number": 32
    },
    {
     "cell_type": "code",
     "collapsed": false,
     "input": [
      "!opencorpora download -d -o annot.opcorpora.no_ambig.xml"
     ],
     "language": "python",
     "metadata": {},
     "outputs": [
      {
       "output_type": "stream",
       "stream": "stdout",
       "text": [
        "Creating annot.opcorpora.no_ambig.xml from http://opencorpora.org/files/export/annot/annot.opcorpora.no_ambig.xml.bz2\r\n"
       ]
      },
      {
       "output_type": "stream",
       "stream": "stdout",
       "text": [
        "."
       ]
      },
      {
       "output_type": "stream",
       "stream": "stdout",
       "text": [
        "..\r\n",
        "Done.\r\n"
       ]
      }
     ],
     "prompt_number": 4
    },
    {
     "cell_type": "code",
     "collapsed": false,
     "input": [
      "!opencorpora download"
     ],
     "language": "python",
     "metadata": {},
     "outputs": [
      {
       "output_type": "stream",
       "stream": "stdout",
       "text": [
        "Creating annot.opcorpora.xml from http://opencorpora.org/files/export/annot/annot.opcorpora.xml.bz2\r\n"
       ]
      },
      {
       "output_type": "stream",
       "stream": "stdout",
       "text": [
        "."
       ]
      },
      {
       "output_type": "stream",
       "stream": "stdout",
       "text": [
        "."
       ]
      },
      {
       "output_type": "stream",
       "stream": "stdout",
       "text": [
        "."
       ]
      },
      {
       "output_type": "stream",
       "stream": "stdout",
       "text": [
        "."
       ]
      },
      {
       "output_type": "stream",
       "stream": "stdout",
       "text": [
        "."
       ]
      },
      {
       "output_type": "stream",
       "stream": "stdout",
       "text": [
        "."
       ]
      },
      {
       "output_type": "stream",
       "stream": "stdout",
       "text": [
        "."
       ]
      },
      {
       "output_type": "stream",
       "stream": "stdout",
       "text": [
        "."
       ]
      },
      {
       "output_type": "stream",
       "stream": "stdout",
       "text": [
        "."
       ]
      },
      {
       "output_type": "stream",
       "stream": "stdout",
       "text": [
        "."
       ]
      },
      {
       "output_type": "stream",
       "stream": "stdout",
       "text": [
        "."
       ]
      },
      {
       "output_type": "stream",
       "stream": "stdout",
       "text": [
        "."
       ]
      },
      {
       "output_type": "stream",
       "stream": "stdout",
       "text": [
        "."
       ]
      },
      {
       "output_type": "stream",
       "stream": "stdout",
       "text": [
        "."
       ]
      },
      {
       "output_type": "stream",
       "stream": "stdout",
       "text": [
        "."
       ]
      },
      {
       "output_type": "stream",
       "stream": "stdout",
       "text": [
        "."
       ]
      },
      {
       "output_type": "stream",
       "stream": "stdout",
       "text": [
        "."
       ]
      },
      {
       "output_type": "stream",
       "stream": "stdout",
       "text": [
        "."
       ]
      },
      {
       "output_type": "stream",
       "stream": "stdout",
       "text": [
        "."
       ]
      },
      {
       "output_type": "stream",
       "stream": "stdout",
       "text": [
        "."
       ]
      },
      {
       "output_type": "stream",
       "stream": "stdout",
       "text": [
        "."
       ]
      },
      {
       "output_type": "stream",
       "stream": "stdout",
       "text": [
        "."
       ]
      },
      {
       "output_type": "stream",
       "stream": "stdout",
       "text": [
        "."
       ]
      },
      {
       "output_type": "stream",
       "stream": "stdout",
       "text": [
        "."
       ]
      },
      {
       "output_type": "stream",
       "stream": "stdout",
       "text": [
        "."
       ]
      },
      {
       "output_type": "stream",
       "stream": "stdout",
       "text": [
        "."
       ]
      },
      {
       "output_type": "stream",
       "stream": "stdout",
       "text": [
        "."
       ]
      },
      {
       "output_type": "stream",
       "stream": "stdout",
       "text": [
        "."
       ]
      },
      {
       "output_type": "stream",
       "stream": "stdout",
       "text": [
        "."
       ]
      },
      {
       "output_type": "stream",
       "stream": "stdout",
       "text": [
        "."
       ]
      },
      {
       "output_type": "stream",
       "stream": "stdout",
       "text": [
        "."
       ]
      },
      {
       "output_type": "stream",
       "stream": "stdout",
       "text": [
        "."
       ]
      },
      {
       "output_type": "stream",
       "stream": "stdout",
       "text": [
        "."
       ]
      },
      {
       "output_type": "stream",
       "stream": "stdout",
       "text": [
        "."
       ]
      },
      {
       "output_type": "stream",
       "stream": "stdout",
       "text": [
        "."
       ]
      },
      {
       "output_type": "stream",
       "stream": "stdout",
       "text": [
        "."
       ]
      },
      {
       "output_type": "stream",
       "stream": "stdout",
       "text": [
        "."
       ]
      },
      {
       "output_type": "stream",
       "stream": "stdout",
       "text": [
        "."
       ]
      },
      {
       "output_type": "stream",
       "stream": "stdout",
       "text": [
        "."
       ]
      },
      {
       "output_type": "stream",
       "stream": "stdout",
       "text": [
        "."
       ]
      },
      {
       "output_type": "stream",
       "stream": "stdout",
       "text": [
        "."
       ]
      },
      {
       "output_type": "stream",
       "stream": "stdout",
       "text": [
        "."
       ]
      },
      {
       "output_type": "stream",
       "stream": "stdout",
       "text": [
        "."
       ]
      },
      {
       "output_type": "stream",
       "stream": "stdout",
       "text": [
        "."
       ]
      },
      {
       "output_type": "stream",
       "stream": "stdout",
       "text": [
        "."
       ]
      },
      {
       "output_type": "stream",
       "stream": "stdout",
       "text": [
        "."
       ]
      },
      {
       "output_type": "stream",
       "stream": "stdout",
       "text": [
        "."
       ]
      },
      {
       "output_type": "stream",
       "stream": "stdout",
       "text": [
        "."
       ]
      },
      {
       "output_type": "stream",
       "stream": "stdout",
       "text": [
        "."
       ]
      },
      {
       "output_type": "stream",
       "stream": "stdout",
       "text": [
        "."
       ]
      },
      {
       "output_type": "stream",
       "stream": "stdout",
       "text": [
        "."
       ]
      },
      {
       "output_type": "stream",
       "stream": "stdout",
       "text": [
        "."
       ]
      },
      {
       "output_type": "stream",
       "stream": "stdout",
       "text": [
        "."
       ]
      },
      {
       "output_type": "stream",
       "stream": "stdout",
       "text": [
        "."
       ]
      },
      {
       "output_type": "stream",
       "stream": "stdout",
       "text": [
        "."
       ]
      },
      {
       "output_type": "stream",
       "stream": "stdout",
       "text": [
        "."
       ]
      },
      {
       "output_type": "stream",
       "stream": "stdout",
       "text": [
        "."
       ]
      },
      {
       "output_type": "stream",
       "stream": "stdout",
       "text": [
        "."
       ]
      },
      {
       "output_type": "stream",
       "stream": "stdout",
       "text": [
        "."
       ]
      },
      {
       "output_type": "stream",
       "stream": "stdout",
       "text": [
        "."
       ]
      },
      {
       "output_type": "stream",
       "stream": "stdout",
       "text": [
        "."
       ]
      },
      {
       "output_type": "stream",
       "stream": "stdout",
       "text": [
        "."
       ]
      },
      {
       "output_type": "stream",
       "stream": "stdout",
       "text": [
        "."
       ]
      },
      {
       "output_type": "stream",
       "stream": "stdout",
       "text": [
        "."
       ]
      },
      {
       "output_type": "stream",
       "stream": "stdout",
       "text": [
        "."
       ]
      },
      {
       "output_type": "stream",
       "stream": "stdout",
       "text": [
        "."
       ]
      },
      {
       "output_type": "stream",
       "stream": "stdout",
       "text": [
        "."
       ]
      },
      {
       "output_type": "stream",
       "stream": "stdout",
       "text": [
        "."
       ]
      },
      {
       "output_type": "stream",
       "stream": "stdout",
       "text": [
        "."
       ]
      },
      {
       "output_type": "stream",
       "stream": "stdout",
       "text": [
        "."
       ]
      },
      {
       "output_type": "stream",
       "stream": "stdout",
       "text": [
        "."
       ]
      },
      {
       "output_type": "stream",
       "stream": "stdout",
       "text": [
        "."
       ]
      },
      {
       "output_type": "stream",
       "stream": "stdout",
       "text": [
        "."
       ]
      },
      {
       "output_type": "stream",
       "stream": "stdout",
       "text": [
        "."
       ]
      },
      {
       "output_type": "stream",
       "stream": "stdout",
       "text": [
        "."
       ]
      },
      {
       "output_type": "stream",
       "stream": "stdout",
       "text": [
        "."
       ]
      },
      {
       "output_type": "stream",
       "stream": "stdout",
       "text": [
        "."
       ]
      },
      {
       "output_type": "stream",
       "stream": "stdout",
       "text": [
        "."
       ]
      },
      {
       "output_type": "stream",
       "stream": "stdout",
       "text": [
        "."
       ]
      },
      {
       "output_type": "stream",
       "stream": "stdout",
       "text": [
        "."
       ]
      },
      {
       "output_type": "stream",
       "stream": "stdout",
       "text": [
        "."
       ]
      },
      {
       "output_type": "stream",
       "stream": "stdout",
       "text": [
        "."
       ]
      },
      {
       "output_type": "stream",
       "stream": "stdout",
       "text": [
        "."
       ]
      },
      {
       "output_type": "stream",
       "stream": "stdout",
       "text": [
        "."
       ]
      },
      {
       "output_type": "stream",
       "stream": "stdout",
       "text": [
        "."
       ]
      },
      {
       "output_type": "stream",
       "stream": "stdout",
       "text": [
        "."
       ]
      },
      {
       "output_type": "stream",
       "stream": "stdout",
       "text": [
        "."
       ]
      },
      {
       "output_type": "stream",
       "stream": "stdout",
       "text": [
        "."
       ]
      },
      {
       "output_type": "stream",
       "stream": "stdout",
       "text": [
        "."
       ]
      },
      {
       "output_type": "stream",
       "stream": "stdout",
       "text": [
        "."
       ]
      },
      {
       "output_type": "stream",
       "stream": "stdout",
       "text": [
        "."
       ]
      },
      {
       "output_type": "stream",
       "stream": "stdout",
       "text": [
        ".\r\n",
        "Done.\r\n"
       ]
      }
     ],
     "prompt_number": 5
    },
    {
     "cell_type": "code",
     "collapsed": false,
     "input": [
      "corpus_noambig = opencorpora.CorpusReader('annot.opcorpora.no_ambig.xml')\n",
      "corpus_full = opencorpora.CorpusReader('annot.opcorpora.xml', use_cache=True)"
     ],
     "language": "python",
     "metadata": {},
     "outputs": [],
     "prompt_number": 6
    },
    {
     "cell_type": "code",
     "collapsed": false,
     "input": [
      "list(islice(corpus_full.iter_parsed_sents(), 6, 7))[0][:10]"
     ],
     "language": "python",
     "metadata": {},
     "outputs": [
      {
       "metadata": {},
       "output_type": "pyout",
       "prompt_number": 7,
       "text": [
        "[('\u0412\u043f\u0440\u043e\u0447\u0435\u043c', [('\u0432\u043f\u0440\u043e\u0447\u0435\u043c', 'CONJ,Prnt')]),\n",
        " (',', [(',', 'PNCT')]),\n",
        " ('\u043d\u0430', [('\u043d\u0430', 'PREP')]),\n",
        " ('\u043a\u0430\u043d\u0430\u043b\u0435', [('\u043a\u0430\u043d\u0430\u043b', 'NOUN,inan,masc,sing,loct')]),\n",
        " ('\u00ab', [('\u00ab', 'PNCT')]),\n",
        " ('\u041a\u0443\u043b\u044c\u0442\u0443\u0440\u0430', [('\u043a\u0443\u043b\u044c\u0442\u0443\u0440\u0430', 'NOUN,inan,femn,sing,nomn')]),\n",
        " ('\u00bb', [('\u00bb', 'PNCT')]),\n",
        " ('\u0432', [('\u0432', 'PREP')]),\n",
        " ('\u0440\u043e\u043b\u0438', [('\u0440\u043e\u043b\u044c', 'NOUN,inan,femn,sing,loct')]),\n",
        " ('\u0442\u0435\u043b\u0435\u0432\u0435\u0434\u0443\u0449\u0438\u0445', [('\u0442\u0435\u043b\u0435\u0432\u0435\u0434\u0443\u0449\u0430\u044f', 'NOUN,anim,femn,plur,gent')])]"
       ]
      }
     ],
     "prompt_number": 7
    },
    {
     "cell_type": "code",
     "collapsed": false,
     "input": [
      "# sents_opcorpora = [sent for sent in corpus_noambig.iter_tagged_sents() \n",
      "#                    if not any(tag=='UNKN' for tok, tag in sent)]\n",
      "# sents_opcorpora = [[(tok, m.TagClass(tag)) for tok, tag in sent if tag != 'PNCT'] for sent in sents_opcorpora]"
     ],
     "language": "python",
     "metadata": {},
     "outputs": [],
     "prompt_number": 5
    },
    {
     "cell_type": "code",
     "collapsed": false,
     "input": [
      "# len(sents_opcorpora)"
     ],
     "language": "python",
     "metadata": {},
     "outputs": [],
     "prompt_number": 6
    },
    {
     "cell_type": "code",
     "collapsed": false,
     "input": [
      "MICROCORPUS_GLOB = '../../microcorpus/data/done/*.txt'\n",
      "\n",
      "def load_microcorpus(path, out_func, remove_pnct=True):\n",
      "    for fn in glob.glob(path):\n",
      "        with open(fn, 'r', encoding='utf8') as f:\n",
      "            sent = []\n",
      "            for line in f:\n",
      "                token, tag = line.split(None, 1)\n",
      "                if remove_pnct and tag.strip() == 'PNCT':\n",
      "                    continue                    \n",
      "                tag = m.TagClass(tag.strip())                \n",
      "                sent.append((token, out_func(tag)))\n",
      "            yield sent"
     ],
     "language": "python",
     "metadata": {},
     "outputs": [],
     "prompt_number": 8
    },
    {
     "cell_type": "code",
     "collapsed": false,
     "input": [
      "def get_outvalue(tag):\n",
      "    case = str(tag.case or 'NA')\n",
      "    case = m.TagClass.RARE_CASES.get(case, case)\n",
      "    return case\n",
      "    \n",
      "#     number = str(tag.number or 'NA')\n",
      "#     return '%s,%s' % (case, number)\n",
      "\n",
      "#     return case\n",
      "#     return str(tag.POS or 'OTHER')\n",
      "#     return str(tag.gender or 'NA')\n",
      "#     case = str(tag.case or '')\n",
      "#     case = m.TagClass.RARE_CASES.get(case, case)\n",
      "#     if not case:\n",
      "#         return str(tag._POS)    \n",
      "#     return \"%s,%s\" % (tag._POS, case)\n",
      "\n",
      "def _has_tag(parsed_sent, tag):\n",
      "    return any(tag == ptag for token, parses in parsed_sent for norm, ptag in parses)\n",
      "\n",
      "def _has_unkn(parsed_sent):\n",
      "    return _has_tag(parsed_sent, 'UNKN')\n",
      "\n",
      "def get_unambig_sents(parsed_sents, out_func, remove_pnct=True):\n",
      "    for sent in parsed_sents:\n",
      "        if _has_unkn(sent):\n",
      "            continue\n",
      "\n",
      "        processed_sent = []\n",
      "        for token, parses in sent:\n",
      "            if remove_pnct and any(tag=='PNCT' for norm, tag in parses):\n",
      "                continue                \n",
      "            seen_y = list(set(out_func(m.TagClass(tag)) for norm, tag in parses))\n",
      "            if len(seen_y) != 1:\n",
      "                # ambiguous\n",
      "                break\n",
      "#             if any('Init' in tag for tag in m.tag(token)):\n",
      "#                 # Initials are not handled in corpora yet,\n",
      "#                 # so pymorphy2 probability estimates are wrong\n",
      "#                 # for them.\n",
      "#                 break\n",
      "            processed_sent.append((token, seen_y[0]))\n",
      "        else:\n",
      "            if processed_sent:\n",
      "                yield processed_sent\n",
      "\n",
      "def getY(sents):\n",
      "    return [[out for token, out in sent] for sent in sents]"
     ],
     "language": "python",
     "metadata": {},
     "outputs": [],
     "prompt_number": 9
    },
    {
     "cell_type": "code",
     "collapsed": false,
     "input": [
      "for sent in get_unambig_sents(islice(corpus_full.iter_parsed_sents(), 200, 230), get_outvalue):\n",
      "    print(sent, end='\\n\\n')"
     ],
     "language": "python",
     "metadata": {},
     "outputs": [
      {
       "output_type": "stream",
       "stream": "stdout",
       "text": [
        "[('\u0410', 'NA'), ('\u043f\u0440\u0438\u0445\u043e\u0434\u0438\u0442\u0441\u044f', 'NA')]\n",
        "\n",
        "[('\u0410', 'NA'), ('\u043c\u043e\u0436\u0435\u0442', 'NA'), ('\u0438', 'NA'), ('\u043d\u0435', 'NA'), ('\u0443\u0432\u043b\u0435\u043a\u0430\u0435\u0442\u0441\u044f', 'NA'), ('\u0430', 'NA'), ('\u043f\u0440\u043e\u0441\u0442\u043e', 'NA'), ('\u0440\u0435\u0437\u0432\u0438\u0442\u0441\u044f', 'NA')]\n",
        "\n",
        "[('\u0421\u043e\u0431\u043b\u0430\u0437\u043d\u044f\u0435\u0442', 'NA')]\n",
        "\n",
        "[('\u0428\u0430\u043b\u0438\u0442', 'NA')]\n",
        "\n",
        "[('\u0424\u0440\u0438\u043a', 'nomn')]\n",
        "\n",
        "[('\u0420\u0430\u0434\u0438', 'NA'), ('\u043d\u0435\u0433\u043e', 'gent'), ('\u0441\u0442\u043e\u0438\u0442', 'NA'), ('\u0441\u043c\u043e\u0442\u0440\u0435\u0442\u044c', 'NA'), ('\u044d\u0442\u0443', 'accs'), ('\u043d\u0435', 'NA'), ('\u0441\u0430\u043c\u0443\u044e', 'accs'), ('\u0438\u043d\u0442\u0435\u0440\u0435\u0441\u043d\u0443\u044e', 'accs'), ('\u043a\u0430\u0440\u0442\u0438\u043d\u0443', 'accs')]\n",
        "\n"
       ]
      }
     ],
     "prompt_number": 10
    },
    {
     "cell_type": "code",
     "collapsed": false,
     "input": [
      "%%time\n",
      "sents_opcorpora_raw = list(\n",
      "    get_unambig_sents(tqdm(corpus_full.iter_parsed_sents(), total=0), get_outvalue, remove_pnct=False)\n",
      ")"
     ],
     "language": "python",
     "metadata": {},
     "outputs": [
      {
       "output_type": "stream",
       "stream": "stdout",
       "text": [
        "\r",
        "0 [elapsed: 00:00, ? iters/sec]"
       ]
      },
      {
       "output_type": "stream",
       "stream": "stdout",
       "text": [
        "\r",
        "413 [elapsed: 00:00, 766.39 iters/sec]"
       ]
      },
      {
       "output_type": "stream",
       "stream": "stdout",
       "text": [
        "\r",
        "896 [elapsed: 00:01, 731.34 iters/sec]"
       ]
      },
      {
       "output_type": "stream",
       "stream": "stdout",
       "text": [
        "\r",
        "1211 [elapsed: 00:01, 618.29 iters/sec]"
       ]
      },
      {
       "output_type": "stream",
       "stream": "stdout",
       "text": [
        "\r",
        "1917 [elapsed: 00:02, 775.80 iters/sec]"
       ]
      },
      {
       "output_type": "stream",
       "stream": "stdout",
       "text": [
        "\r",
        "2502 [elapsed: 00:02, 842.13 iters/sec]"
       ]
      },
      {
       "output_type": "stream",
       "stream": "stdout",
       "text": [
        "\r",
        "2941 [elapsed: 00:03, 844.99 iters/sec]"
       ]
      },
      {
       "output_type": "stream",
       "stream": "stdout",
       "text": [
        "\r",
        "3525 [elapsed: 00:03, 885.49 iters/sec]"
       ]
      },
      {
       "output_type": "stream",
       "stream": "stdout",
       "text": [
        "\r",
        "3905 [elapsed: 00:04, 871.39 iters/sec]"
       ]
      },
      {
       "output_type": "stream",
       "stream": "stdout",
       "text": [
        "\r",
        "4459 [elapsed: 00:05, 871.60 iters/sec]"
       ]
      },
      {
       "output_type": "stream",
       "stream": "stdout",
       "text": [
        "\r",
        "5053 [elapsed: 00:05, 896.14 iters/sec]"
       ]
      },
      {
       "output_type": "stream",
       "stream": "stdout",
       "text": [
        "\r",
        "5469 [elapsed: 00:06, 890.91 iters/sec]"
       ]
      },
      {
       "output_type": "stream",
       "stream": "stdout",
       "text": [
        "\r",
        "6145 [elapsed: 00:06, 925.58 iters/sec]"
       ]
      },
      {
       "output_type": "stream",
       "stream": "stdout",
       "text": [
        "\r",
        "6600 [elapsed: 00:07, 922.31 iters/sec]"
       ]
      },
      {
       "output_type": "stream",
       "stream": "stdout",
       "text": [
        "\r",
        "7034 [elapsed: 00:07, 904.08 iters/sec]"
       ]
      },
      {
       "output_type": "stream",
       "stream": "stdout",
       "text": [
        "\r",
        "7756 [elapsed: 00:08, 932.15 iters/sec]"
       ]
      },
      {
       "output_type": "stream",
       "stream": "stdout",
       "text": [
        "\r",
        "8186 [elapsed: 00:08, 928.04 iters/sec]"
       ]
      },
      {
       "output_type": "stream",
       "stream": "stdout",
       "text": [
        "\r",
        "8579 [elapsed: 00:09, 920.29 iters/sec]"
       ]
      },
      {
       "output_type": "stream",
       "stream": "stdout",
       "text": [
        "\r",
        "9072 [elapsed: 00:09, 923.64 iters/sec]"
       ]
      },
      {
       "output_type": "stream",
       "stream": "stdout",
       "text": [
        "\r",
        "9648 [elapsed: 00:10, 934.68 iters/sec]"
       ]
      },
      {
       "output_type": "stream",
       "stream": "stdout",
       "text": [
        "\r",
        "10095 [elapsed: 00:10, 932.73 iters/sec]"
       ]
      },
      {
       "output_type": "stream",
       "stream": "stdout",
       "text": [
        "\r",
        "10636 [elapsed: 00:11, 930.79 iters/sec]"
       ]
      },
      {
       "output_type": "stream",
       "stream": "stdout",
       "text": [
        "\r",
        "11131 [elapsed: 00:11, 933.25 iters/sec]"
       ]
      },
      {
       "output_type": "stream",
       "stream": "stdout",
       "text": [
        "\r",
        "11621 [elapsed: 00:12, 935.07 iters/sec]"
       ]
      },
      {
       "output_type": "stream",
       "stream": "stdout",
       "text": [
        "\r",
        "12271 [elapsed: 00:12, 945.95 iters/sec]"
       ]
      },
      {
       "output_type": "stream",
       "stream": "stdout",
       "text": [
        "\r",
        "12761 [elapsed: 00:13, 947.20 iters/sec]"
       ]
      },
      {
       "output_type": "stream",
       "stream": "stdout",
       "text": [
        "\r",
        "13192 [elapsed: 00:14, 939.52 iters/sec]"
       ]
      },
      {
       "output_type": "stream",
       "stream": "stdout",
       "text": [
        "\r",
        "13698 [elapsed: 00:14, 939.86 iters/sec]"
       ]
      },
      {
       "output_type": "stream",
       "stream": "stdout",
       "text": [
        "\r",
        "14304 [elapsed: 00:15, 948.88 iters/sec]"
       ]
      },
      {
       "output_type": "stream",
       "stream": "stdout",
       "text": [
        "\r",
        "14755 [elapsed: 00:15, 947.14 iters/sec]"
       ]
      },
      {
       "output_type": "stream",
       "stream": "stdout",
       "text": [
        "\r",
        "15147 [elapsed: 00:16, 942.04 iters/sec]"
       ]
      },
      {
       "output_type": "stream",
       "stream": "stdout",
       "text": [
        "\r",
        "15758 [elapsed: 00:16, 949.40 iters/sec]"
       ]
      },
      {
       "output_type": "stream",
       "stream": "stdout",
       "text": [
        "\r",
        "16178 [elapsed: 00:17, 946.20 iters/sec]"
       ]
      },
      {
       "output_type": "stream",
       "stream": "stdout",
       "text": [
        "\r",
        "16614 [elapsed: 00:17, 941.72 iters/sec]"
       ]
      },
      {
       "output_type": "stream",
       "stream": "stdout",
       "text": [
        "\r",
        "17104 [elapsed: 00:18, 942.77 iters/sec]"
       ]
      },
      {
       "output_type": "stream",
       "stream": "stdout",
       "text": [
        "\r",
        "17552 [elapsed: 00:18, 941.48 iters/sec]"
       ]
      },
      {
       "output_type": "stream",
       "stream": "stdout",
       "text": [
        "\r",
        "18170 [elapsed: 00:19, 941.61 iters/sec]"
       ]
      },
      {
       "output_type": "stream",
       "stream": "stdout",
       "text": [
        "\r",
        "18810 [elapsed: 00:19, 949.05 iters/sec]"
       ]
      },
      {
       "output_type": "stream",
       "stream": "stdout",
       "text": [
        "\r",
        "19191 [elapsed: 00:20, 943.08 iters/sec]"
       ]
      },
      {
       "output_type": "stream",
       "stream": "stdout",
       "text": [
        "\r",
        "19328 [elapsed: 00:21, 911.75 iters/sec]"
       ]
      },
      {
       "output_type": "stream",
       "stream": "stdout",
       "text": [
        "\r",
        "20155 [elapsed: 00:21, 928.84 iters/sec]"
       ]
      },
      {
       "output_type": "stream",
       "stream": "stdout",
       "text": [
        "\r",
        "20918 [elapsed: 00:22, 942.28 iters/sec]"
       ]
      },
      {
       "output_type": "stream",
       "stream": "stdout",
       "text": [
        "\r",
        "21426 [elapsed: 00:22, 942.82 iters/sec]"
       ]
      },
      {
       "output_type": "stream",
       "stream": "stdout",
       "text": [
        "\r",
        "21978 [elapsed: 00:23, 946.29 iters/sec]"
       ]
      },
      {
       "output_type": "stream",
       "stream": "stdout",
       "text": [
        "\r",
        "22492 [elapsed: 00:23, 946.98 iters/sec]"
       ]
      },
      {
       "output_type": "stream",
       "stream": "stdout",
       "text": [
        "\r",
        "23028 [elapsed: 00:24, 949.55 iters/sec]"
       ]
      },
      {
       "output_type": "stream",
       "stream": "stdout",
       "text": [
        "\r",
        "23494 [elapsed: 00:24, 949.18 iters/sec]"
       ]
      },
      {
       "output_type": "stream",
       "stream": "stdout",
       "text": [
        "\r",
        "24073 [elapsed: 00:25, 952.96 iters/sec]"
       ]
      },
      {
       "output_type": "stream",
       "stream": "stdout",
       "text": [
        "\r",
        "24555 [elapsed: 00:25, 953.18 iters/sec]"
       ]
      },
      {
       "output_type": "stream",
       "stream": "stdout",
       "text": [
        "\r",
        "25106 [elapsed: 00:26, 956.00 iters/sec]"
       ]
      },
      {
       "output_type": "stream",
       "stream": "stdout",
       "text": [
        "\r",
        "25621 [elapsed: 00:26, 957.38 iters/sec]"
       ]
      },
      {
       "output_type": "stream",
       "stream": "stdout",
       "text": [
        "\r",
        "26219 [elapsed: 00:27, 961.14 iters/sec]"
       ]
      },
      {
       "output_type": "stream",
       "stream": "stdout",
       "text": [
        "\r",
        "26694 [elapsed: 00:27, 960.93 iters/sec]"
       ]
      },
      {
       "output_type": "stream",
       "stream": "stdout",
       "text": [
        "\r",
        "27227 [elapsed: 00:28, 958.93 iters/sec]"
       ]
      },
      {
       "output_type": "stream",
       "stream": "stdout",
       "text": [
        "\r",
        "27811 [elapsed: 00:28, 962.43 iters/sec]"
       ]
      },
      {
       "output_type": "stream",
       "stream": "stdout",
       "text": [
        "\r",
        "28407 [elapsed: 00:29, 966.33 iters/sec]"
       ]
      },
      {
       "output_type": "stream",
       "stream": "stdout",
       "text": [
        "\r",
        "28862 [elapsed: 00:29, 965.38 iters/sec]"
       ]
      },
      {
       "output_type": "stream",
       "stream": "stdout",
       "text": [
        "\r",
        "29406 [elapsed: 00:30, 967.38 iters/sec]"
       ]
      },
      {
       "output_type": "stream",
       "stream": "stdout",
       "text": [
        "\r",
        "29813 [elapsed: 00:30, 964.89 iters/sec]"
       ]
      },
      {
       "output_type": "stream",
       "stream": "stdout",
       "text": [
        "\r",
        "30254 [elapsed: 00:31, 963.43 iters/sec]"
       ]
      },
      {
       "output_type": "stream",
       "stream": "stdout",
       "text": [
        "\r",
        "30740 [elapsed: 00:31, 963.56 iters/sec]"
       ]
      },
      {
       "output_type": "stream",
       "stream": "stdout",
       "text": [
        "\r",
        "31325 [elapsed: 00:32, 966.12 iters/sec]"
       ]
      },
      {
       "output_type": "stream",
       "stream": "stdout",
       "text": [
        "\r",
        "31907 [elapsed: 00:32, 968.35 iters/sec]"
       ]
      },
      {
       "output_type": "stream",
       "stream": "stdout",
       "text": [
        "\r",
        "32424 [elapsed: 00:33, 968.59 iters/sec]"
       ]
      },
      {
       "output_type": "stream",
       "stream": "stdout",
       "text": [
        "\r",
        "32951 [elapsed: 00:33, 969.84 iters/sec]"
       ]
      },
      {
       "output_type": "stream",
       "stream": "stdout",
       "text": [
        "\r",
        "33347 [elapsed: 00:34, 966.90 iters/sec]"
       ]
      },
      {
       "output_type": "stream",
       "stream": "stdout",
       "text": [
        "\r",
        "33884 [elapsed: 00:34, 968.31 iters/sec]"
       ]
      },
      {
       "output_type": "stream",
       "stream": "stdout",
       "text": [
        "\r",
        "34436 [elapsed: 00:35, 970.08 iters/sec]"
       ]
      },
      {
       "output_type": "stream",
       "stream": "stdout",
       "text": [
        "\r",
        "35009 [elapsed: 00:36, 972.39 iters/sec]"
       ]
      },
      {
       "output_type": "stream",
       "stream": "stdout",
       "text": [
        "\r",
        "35432 [elapsed: 00:36, 969.20 iters/sec]"
       ]
      },
      {
       "output_type": "stream",
       "stream": "stdout",
       "text": [
        "\r",
        "36055 [elapsed: 00:37, 972.87 iters/sec]"
       ]
      },
      {
       "output_type": "stream",
       "stream": "stdout",
       "text": [
        "\r",
        "36511 [elapsed: 00:37, 971.66 iters/sec]"
       ]
      },
      {
       "output_type": "stream",
       "stream": "stdout",
       "text": [
        "\r",
        "36936 [elapsed: 00:38, 970.05 iters/sec]"
       ]
      },
      {
       "output_type": "stream",
       "stream": "stdout",
       "text": [
        "\r",
        "37539 [elapsed: 00:38, 973.10 iters/sec]"
       ]
      },
      {
       "output_type": "stream",
       "stream": "stdout",
       "text": [
        "\r",
        "38063 [elapsed: 00:39, 974.00 iters/sec]"
       ]
      },
      {
       "output_type": "stream",
       "stream": "stdout",
       "text": [
        "\r",
        "38525 [elapsed: 00:39, 973.37 iters/sec]"
       ]
      },
      {
       "output_type": "stream",
       "stream": "stdout",
       "text": [
        "\r",
        "38940 [elapsed: 00:40, 970.83 iters/sec]"
       ]
      },
      {
       "output_type": "stream",
       "stream": "stdout",
       "text": [
        "\r",
        "39451 [elapsed: 00:40, 971.33 iters/sec]"
       ]
      },
      {
       "output_type": "stream",
       "stream": "stdout",
       "text": [
        "\r",
        "39749 [elapsed: 00:41, 966.56 iters/sec]"
       ]
      },
      {
       "output_type": "stream",
       "stream": "stdout",
       "text": [
        "\r",
        "40299 [elapsed: 00:41, 968.16 iters/sec]"
       ]
      },
      {
       "output_type": "stream",
       "stream": "stdout",
       "text": [
        "\r",
        "40615 [elapsed: 00:42, 964.16 iters/sec]"
       ]
      },
      {
       "output_type": "stream",
       "stream": "stdout",
       "text": [
        "\r",
        "40964 [elapsed: 00:42, 961.03 iters/sec]"
       ]
      },
      {
       "output_type": "stream",
       "stream": "stdout",
       "text": [
        "\r",
        "41359 [elapsed: 00:43, 959.04 iters/sec]"
       ]
      },
      {
       "output_type": "stream",
       "stream": "stdout",
       "text": [
        "\r",
        "41705 [elapsed: 00:43, 955.12 iters/sec]"
       ]
      },
      {
       "output_type": "stream",
       "stream": "stdout",
       "text": [
        "\r",
        "42319 [elapsed: 00:44, 958.10 iters/sec]"
       ]
      },
      {
       "output_type": "stream",
       "stream": "stdout",
       "text": [
        "\r",
        "42761 [elapsed: 00:44, 956.45 iters/sec]"
       ]
      },
      {
       "output_type": "stream",
       "stream": "stdout",
       "text": [
        "\r",
        "43274 [elapsed: 00:45, 952.44 iters/sec]"
       ]
      },
      {
       "output_type": "stream",
       "stream": "stdout",
       "text": [
        "\r",
        "43724 [elapsed: 00:46, 949.12 iters/sec]"
       ]
      },
      {
       "output_type": "stream",
       "stream": "stdout",
       "text": [
        "\r",
        "44459 [elapsed: 00:46, 947.41 iters/sec]"
       ]
      },
      {
       "output_type": "stream",
       "stream": "stdout",
       "text": [
        "\r",
        "45294 [elapsed: 00:47, 955.01 iters/sec]"
       ]
      },
      {
       "output_type": "stream",
       "stream": "stdout",
       "text": [
        "\r",
        "45753 [elapsed: 00:47, 954.61 iters/sec]"
       ]
      },
      {
       "output_type": "stream",
       "stream": "stdout",
       "text": [
        "\r",
        "46272 [elapsed: 00:48, 955.46 iters/sec]"
       ]
      },
      {
       "output_type": "stream",
       "stream": "stdout",
       "text": [
        "\r",
        "46766 [elapsed: 00:48, 955.79 iters/sec]"
       ]
      },
      {
       "output_type": "stream",
       "stream": "stdout",
       "text": [
        "\r",
        "47183 [elapsed: 00:49, 954.55 iters/sec]"
       ]
      },
      {
       "output_type": "stream",
       "stream": "stdout",
       "text": [
        "\r",
        "47494 [elapsed: 00:49, 951.22 iters/sec]"
       ]
      },
      {
       "output_type": "stream",
       "stream": "stdout",
       "text": [
        "\r",
        "47666 [elapsed: 00:50, 945.18 iters/sec]"
       ]
      },
      {
       "output_type": "stream",
       "stream": "stdout",
       "text": [
        "\r",
        "47887 [elapsed: 00:50, 940.21 iters/sec]"
       ]
      },
      {
       "output_type": "stream",
       "stream": "stdout",
       "text": [
        "\r",
        "48233 [elapsed: 00:51, 937.80 iters/sec]"
       ]
      },
      {
       "output_type": "stream",
       "stream": "stdout",
       "text": [
        "\r",
        "48502 [elapsed: 00:51, 933.69 iters/sec]"
       ]
      },
      {
       "output_type": "stream",
       "stream": "stdout",
       "text": [
        "\r",
        "48841 [elapsed: 00:52, 931.24 iters/sec]"
       ]
      },
      {
       "output_type": "stream",
       "stream": "stdout",
       "text": [
        "\r",
        "49225 [elapsed: 00:52, 929.69 iters/sec]"
       ]
      },
      {
       "output_type": "stream",
       "stream": "stdout",
       "text": [
        "\r",
        "49530 [elapsed: 00:53, 926.05 iters/sec]"
       ]
      },
      {
       "output_type": "stream",
       "stream": "stdout",
       "text": [
        "\r",
        "49953 [elapsed: 00:53, 925.31 iters/sec]"
       ]
      },
      {
       "output_type": "stream",
       "stream": "stdout",
       "text": [
        "\r",
        "50216 [elapsed: 00:54, 921.51 iters/sec]"
       ]
      },
      {
       "output_type": "stream",
       "stream": "stdout",
       "text": [
        "\r",
        "50602 [elapsed: 00:54, 920.14 iters/sec]"
       ]
      },
      {
       "output_type": "stream",
       "stream": "stdout",
       "text": [
        "\r",
        "51044 [elapsed: 00:55, 919.81 iters/sec]"
       ]
      },
      {
       "output_type": "stream",
       "stream": "stdout",
       "text": [
        "\r",
        "51346 [elapsed: 00:56, 916.57 iters/sec]"
       ]
      },
      {
       "output_type": "stream",
       "stream": "stdout",
       "text": [
        "\r",
        "51876 [elapsed: 00:58, 891.07 iters/sec]"
       ]
      },
      {
       "output_type": "stream",
       "stream": "stdout",
       "text": [
        "\r",
        "52569 [elapsed: 00:58, 895.29 iters/sec]"
       ]
      },
      {
       "output_type": "stream",
       "stream": "stdout",
       "text": [
        "\r",
        "53397 [elapsed: 00:59, 901.71 iters/sec]"
       ]
      },
      {
       "output_type": "stream",
       "stream": "stdout",
       "text": [
        "\r",
        "54402 [elapsed: 00:59, 910.99 iters/sec]"
       ]
      },
      {
       "output_type": "stream",
       "stream": "stdout",
       "text": [
        "\r",
        "54793 [elapsed: 01:00, 909.91 iters/sec]"
       ]
      },
      {
       "output_type": "stream",
       "stream": "stdout",
       "text": [
        "\r",
        "54997 [elapsed: 01:00, 904.69 iters/sec]"
       ]
      },
      {
       "output_type": "stream",
       "stream": "stdout",
       "text": [
        "\r",
        "55493 [elapsed: 01:01, 905.32 iters/sec]"
       ]
      },
      {
       "output_type": "stream",
       "stream": "stdout",
       "text": [
        "\r",
        "55933 [elapsed: 01:01, 904.99 iters/sec]"
       ]
      },
      {
       "output_type": "stream",
       "stream": "stdout",
       "text": [
        "\r",
        "56596 [elapsed: 01:02, 908.37 iters/sec]"
       ]
      },
      {
       "output_type": "stream",
       "stream": "stdout",
       "text": [
        "\r",
        "57045 [elapsed: 01:02, 905.66 iters/sec]"
       ]
      },
      {
       "output_type": "stream",
       "stream": "stdout",
       "text": [
        "\r",
        "57386 [elapsed: 01:03, 903.86 iters/sec]"
       ]
      },
      {
       "output_type": "stream",
       "stream": "stdout",
       "text": [
        "\r",
        "57547 [elapsed: 01:04, 898.84 iters/sec]"
       ]
      },
      {
       "output_type": "stream",
       "stream": "stdout",
       "text": [
        "\r",
        "57617 [elapsed: 01:05, 882.52 iters/sec]"
       ]
      },
      {
       "output_type": "stream",
       "stream": "stdout",
       "text": [
        "\r",
        "58436 [elapsed: 01:05, 888.26 iters/sec]"
       ]
      },
      {
       "output_type": "stream",
       "stream": "stdout",
       "text": [
        "\r",
        "58928 [elapsed: 01:06, 888.24 iters/sec]"
       ]
      },
      {
       "output_type": "stream",
       "stream": "stdout",
       "text": [
        "\r",
        "59544 [elapsed: 01:06, 890.71 iters/sec]"
       ]
      },
      {
       "output_type": "stream",
       "stream": "stdout",
       "text": [
        "\r",
        "59849 [elapsed: 01:07, 888.61 iters/sec]"
       ]
      },
      {
       "output_type": "stream",
       "stream": "stdout",
       "text": [
        "\r",
        "60147 [elapsed: 01:08, 884.01 iters/sec]"
       ]
      },
      {
       "output_type": "stream",
       "stream": "stdout",
       "text": [
        "\r",
        "60705 [elapsed: 01:08, 883.55 iters/sec]"
       ]
      },
      {
       "output_type": "stream",
       "stream": "stdout",
       "text": [
        "\r",
        "61374 [elapsed: 01:09, 886.83 iters/sec]"
       ]
      },
      {
       "output_type": "stream",
       "stream": "stdout",
       "text": [
        "\r",
        "61784 [elapsed: 01:09, 886.34 iters/sec]"
       ]
      },
      {
       "output_type": "stream",
       "stream": "stdout",
       "text": [
        "\r",
        "62243 [elapsed: 01:10, 886.55 iters/sec]"
       ]
      },
      {
       "output_type": "stream",
       "stream": "stdout",
       "text": [
        "\r",
        "62792 [elapsed: 01:10, 888.05 iters/sec]"
       ]
      },
      {
       "output_type": "stream",
       "stream": "stdout",
       "text": [
        "\r",
        "63399 [elapsed: 01:11, 890.33 iters/sec]"
       ]
      },
      {
       "output_type": "stream",
       "stream": "stdout",
       "text": [
        "\r",
        "63994 [elapsed: 01:11, 892.42 iters/sec]"
       ]
      },
      {
       "output_type": "stream",
       "stream": "stdout",
       "text": [
        "\r",
        "64456 [elapsed: 01:12, 892.61 iters/sec]"
       ]
      },
      {
       "output_type": "stream",
       "stream": "stdout",
       "text": [
        "\r",
        "64910 [elapsed: 01:12, 892.72 iters/sec]"
       ]
      },
      {
       "output_type": "stream",
       "stream": "stdout",
       "text": [
        "\r",
        "65480 [elapsed: 01:13, 894.41 iters/sec]"
       ]
      },
      {
       "output_type": "stream",
       "stream": "stdout",
       "text": [
        "\r",
        "66039 [elapsed: 01:13, 895.68 iters/sec]"
       ]
      },
      {
       "output_type": "stream",
       "stream": "stdout",
       "text": [
        "\r",
        "66582 [elapsed: 01:14, 896.91 iters/sec]"
       ]
      },
      {
       "output_type": "stream",
       "stream": "stdout",
       "text": [
        "\r",
        "67169 [elapsed: 01:14, 898.76 iters/sec]"
       ]
      },
      {
       "output_type": "stream",
       "stream": "stdout",
       "text": [
        "\r",
        "67708 [elapsed: 01:15, 899.95 iters/sec]"
       ]
      },
      {
       "output_type": "stream",
       "stream": "stdout",
       "text": [
        "\r",
        "68269 [elapsed: 01:15, 901.41 iters/sec]"
       ]
      },
      {
       "output_type": "stream",
       "stream": "stdout",
       "text": [
        "\r",
        "68719 [elapsed: 01:16, 901.38 iters/sec]"
       ]
      },
      {
       "output_type": "stream",
       "stream": "stdout",
       "text": [
        "\r",
        "69152 [elapsed: 01:16, 900.28 iters/sec]"
       ]
      },
      {
       "output_type": "stream",
       "stream": "stdout",
       "text": [
        "\r",
        "69799 [elapsed: 01:17, 902.81 iters/sec]"
       ]
      },
      {
       "output_type": "stream",
       "stream": "stdout",
       "text": [
        "\r",
        "70337 [elapsed: 01:17, 903.83 iters/sec]"
       ]
      },
      {
       "output_type": "stream",
       "stream": "stdout",
       "text": [
        "\r",
        "70731 [elapsed: 01:18, 903.09 iters/sec]"
       ]
      },
      {
       "output_type": "stream",
       "stream": "stdout",
       "text": [
        "\r",
        "71185 [elapsed: 01:18, 903.04 iters/sec]"
       ]
      },
      {
       "output_type": "stream",
       "stream": "stdout",
       "text": [
        "\r",
        "71667 [elapsed: 01:19, 903.04 iters/sec]"
       ]
      },
      {
       "output_type": "stream",
       "stream": "stdout",
       "text": [
        "\r",
        "72228 [elapsed: 01:19, 904.41 iters/sec]"
       ]
      },
      {
       "output_type": "stream",
       "stream": "stdout",
       "text": [
        "\r",
        "72617 [elapsed: 01:20, 903.62 iters/sec]"
       ]
      },
      {
       "output_type": "stream",
       "stream": "stdout",
       "text": [
        "\r",
        "73055 [elapsed: 01:20, 903.41 iters/sec]"
       ]
      },
      {
       "output_type": "stream",
       "stream": "stdout",
       "text": [
        "\r",
        "73485 [elapsed: 01:21, 903.14 iters/sec]"
       ]
      },
      {
       "output_type": "stream",
       "stream": "stdout",
       "text": [
        "\r",
        "73850 [elapsed: 01:21, 901.91 iters/sec]"
       ]
      },
      {
       "output_type": "stream",
       "stream": "stdout",
       "text": [
        "\r",
        "74424 [elapsed: 01:22, 903.16 iters/sec]"
       ]
      },
      {
       "output_type": "stream",
       "stream": "stdout",
       "text": [
        "\r",
        "74950 [elapsed: 01:22, 904.01 iters/sec]"
       ]
      },
      {
       "output_type": "stream",
       "stream": "stdout",
       "text": [
        "\r",
        "75407 [elapsed: 01:23, 904.07 iters/sec]"
       ]
      },
      {
       "output_type": "stream",
       "stream": "stdout",
       "text": [
        "\r",
        "75795 [elapsed: 01:23, 903.08 iters/sec]"
       ]
      },
      {
       "output_type": "stream",
       "stream": "stdout",
       "text": [
        "\r",
        "76203 [elapsed: 01:24, 902.27 iters/sec]"
       ]
      },
      {
       "output_type": "stream",
       "stream": "stdout",
       "text": [
        "\r",
        "76593 [elapsed: 01:24, 901.51 iters/sec]"
       ]
      },
      {
       "output_type": "stream",
       "stream": "stdout",
       "text": [
        "\r",
        "77027 [elapsed: 01:25, 901.31 iters/sec]"
       ]
      },
      {
       "output_type": "stream",
       "stream": "stdout",
       "text": [
        "\r",
        "77263 [elapsed: 01:25, 898.81 iters/sec]"
       ]
      },
      {
       "output_type": "stream",
       "stream": "stdout",
       "text": [
        "\r",
        "77825 [elapsed: 01:26, 900.03 iters/sec]"
       ]
      },
      {
       "output_type": "stream",
       "stream": "stdout",
       "text": [
        "\r",
        "78169 [elapsed: 01:27, 897.31 iters/sec]"
       ]
      },
      {
       "output_type": "stream",
       "stream": "stdout",
       "text": [
        "\r",
        "78459 [elapsed: 01:27, 893.51 iters/sec]"
       ]
      },
      {
       "output_type": "stream",
       "stream": "stdout",
       "text": [
        "\r",
        "79137 [elapsed: 01:28, 895.61 iters/sec]"
       ]
      },
      {
       "output_type": "stream",
       "stream": "stdout",
       "text": [
        "\r",
        "79569 [elapsed: 01:28, 895.42 iters/sec]"
       ]
      },
      {
       "output_type": "stream",
       "stream": "stdout",
       "text": [
        "\r",
        "80033 [elapsed: 01:29, 895.60 iters/sec]"
       ]
      },
      {
       "output_type": "stream",
       "stream": "stdout",
       "text": [
        "\r",
        "80482 [elapsed: 01:29, 895.61 iters/sec]"
       ]
      },
      {
       "output_type": "stream",
       "stream": "stdout",
       "text": [
        "\r",
        "80923 [elapsed: 01:30, 894.74 iters/sec]"
       ]
      },
      {
       "output_type": "stream",
       "stream": "stdout",
       "text": [
        "\r",
        "81531 [elapsed: 01:30, 896.51 iters/sec]"
       ]
      },
      {
       "output_type": "stream",
       "stream": "stdout",
       "text": [
        "\r",
        "81809 [elapsed: 01:33, 878.57 iters/sec]"
       ]
      },
      {
       "output_type": "stream",
       "stream": "stdout",
       "text": [
        "\r",
        "82780 [elapsed: 01:33, 884.24 iters/sec]"
       ]
      },
      {
       "output_type": "stream",
       "stream": "stdout",
       "text": [
        "\r",
        "83809 [elapsed: 01:34, 890.47 iters/sec]"
       ]
      },
      {
       "output_type": "stream",
       "stream": "stdout",
       "text": [
        "\r",
        "84405 [elapsed: 01:35, 884.27 iters/sec]"
       ]
      },
      {
       "output_type": "stream",
       "stream": "stdout",
       "text": [
        "\r",
        "84855 [elapsed: 01:35, 884.35 iters/sec]"
       ]
      },
      {
       "output_type": "stream",
       "stream": "stdout",
       "text": [
        "\r",
        "85104 [elapsed: 01:36, 881.43 iters/sec]"
       ]
      },
      {
       "output_type": "stream",
       "stream": "stdout",
       "text": [
        "\r",
        "85270 [elapsed: 01:37, 878.15 iters/sec]"
       ]
      },
      {
       "output_type": "stream",
       "stream": "stdout",
       "text": [
        "\r",
        "85816 [elapsed: 01:37, 878.95 iters/sec]"
       ]
      },
      {
       "output_type": "stream",
       "stream": "stdout",
       "text": [
        "\r",
        "86190 [elapsed: 01:38, 877.42 iters/sec]"
       ]
      },
      {
       "output_type": "stream",
       "stream": "stdout",
       "text": [
        "\r",
        "86498 [elapsed: 01:38, 876.09 iters/sec]"
       ]
      },
      {
       "output_type": "stream",
       "stream": "stdout",
       "text": [
        "\r",
        "86838 [elapsed: 01:39, 873.29 iters/sec]"
       ]
      },
      {
       "output_type": "stream",
       "stream": "stdout",
       "text": [
        "\r",
        "87373 [elapsed: 01:40, 873.59 iters/sec]"
       ]
      },
      {
       "output_type": "stream",
       "stream": "stdout",
       "text": [
        "\r",
        "87758 [elapsed: 01:40, 872.68 iters/sec]"
       ]
      },
      {
       "output_type": "stream",
       "stream": "stdout",
       "text": [
        "\r",
        "87979 [elapsed: 01:41, 866.96 iters/sec]"
       ]
      },
      {
       "output_type": "stream",
       "stream": "stdout",
       "text": [
        "\r",
        "89290 [elapsed: 01:42, 872.05 iters/sec]"
       ]
      },
      {
       "output_type": "stream",
       "stream": "stdout",
       "text": [
        "\r",
        "90228 [elapsed: 01:42, 876.93 iters/sec]"
       ]
      },
      {
       "output_type": "stream",
       "stream": "stdout",
       "text": [
        "\r",
        "90700 [elapsed: 01:43, 877.25 iters/sec]"
       ]
      },
      {
       "output_type": "stream",
       "stream": "stdout",
       "text": [
        "\r",
        "90990 [elapsed: 01:43, 875.82 iters/sec]"
       ]
      },
      {
       "output_type": "stream",
       "stream": "stdout",
       "text": [
        "\r",
        "91395 [elapsed: 01:44, 875.50 iters/sec]"
       ]
      },
      {
       "output_type": "stream",
       "stream": "stdout",
       "text": [
        "\r",
        "91732 [elapsed: 01:44, 874.50 iters/sec]"
       ]
      },
      {
       "output_type": "stream",
       "stream": "stdout",
       "text": [
        "\r",
        "92206 [elapsed: 01:45, 874.84 iters/sec]"
       ]
      },
      {
       "output_type": "stream",
       "stream": "stdout",
       "text": [
        "\r",
        "92579 [elapsed: 01:45, 874.23 iters/sec]"
       ]
      },
      {
       "output_type": "stream",
       "stream": "stdout",
       "text": [
        "\r",
        "92922 [elapsed: 01:46, 873.10 iters/sec]"
       ]
      },
      {
       "output_type": "stream",
       "stream": "stdout",
       "text": [
        "\r",
        "                                        "
       ]
      },
      {
       "output_type": "stream",
       "stream": "stdout",
       "text": [
        "\r",
        "CPU times: user 1min 42s, sys: 2.22 s, total: 1min 44s\n",
        "Wall time: 1min 46s\n"
       ]
      }
     ],
     "prompt_number": 14
    },
    {
     "cell_type": "code",
     "collapsed": false,
     "input": [
      "sents_opcorpora = [s for s in sents_opcorpora_raw if len(s) > 1]\n",
      "len(sents_opcorpora_raw), len(sents_opcorpora)"
     ],
     "language": "python",
     "metadata": {},
     "outputs": [
      {
       "metadata": {},
       "output_type": "pyout",
       "prompt_number": 15,
       "text": [
        "(7668, 7305)"
       ]
      }
     ],
     "prompt_number": 15
    },
    {
     "cell_type": "code",
     "collapsed": false,
     "input": [
      "# TRAIN_SIZE = 60\n",
      "\n",
      "sents_train = sents_opcorpora\n",
      "sents_test = list(load_microcorpus(MICROCORPUS_GLOB, get_outvalue, remove_pnct=False))\n",
      "\n",
      "y_train = getY(sents_train)\n",
      "y_test = getY(sents_test)\n",
      "\n",
      "# sents = list(load_microcorpus(MICROCORPUS_GLOB))\n",
      "# sents_train, sents_test = sents[:TRAIN_SIZE], sents[TRAIN_SIZE:]\n",
      "\n",
      "# y = [[get_case(tag) for token, tag in sent] for sent in sents]\n",
      "# y_train, y_test = y[:TRAIN_SIZE], y[TRAIN_SIZE:]"
     ],
     "language": "python",
     "metadata": {},
     "outputs": [],
     "prompt_number": 16
    },
    {
     "cell_type": "code",
     "collapsed": false,
     "input": [
      "set(chain(*y_train)), set(chain(*y_test)), len(y_train), len(y_test), m.TagClass.RARE_CASES"
     ],
     "language": "python",
     "metadata": {},
     "outputs": [
      {
       "metadata": {},
       "output_type": "pyout",
       "prompt_number": 17,
       "text": [
        "({'NA', 'ablt', 'accs', 'datv', 'gent', 'loct', 'nomn'},\n",
        " {'NA', 'ablt', 'accs', 'datv', 'gent', 'loct', 'nomn'},\n",
        " 7305,\n",
        " 94,\n",
        " {'acc2': 'accs',\n",
        "  'gen2': 'gent',\n",
        "  'loc2': 'loct',\n",
        "  'gen1': 'gent',\n",
        "  'voct': 'nomn',\n",
        "  'loc1': 'loct',\n",
        "  'acc1': 'accs'})"
       ]
      }
     ],
     "prompt_number": 17
    },
    {
     "cell_type": "code",
     "collapsed": false,
     "input": [
      "THRESH = 0.1\n",
      "FORBIDDEN_GRAMMEMES = {} # {'inan', 'anim', 'sing', 'plur', 'masc', 'femn', 'neut'}\n",
      "# ALLOWED_GRAMMEMES = (m.TagClass.CASES | m.TagClass.PARTS_OF_SPEECH |\n",
      "#                      m.TagClass.TRANSITIVITY | m.TagClass.VOICES | m.TagClass.ASPECTS |\n",
      "#                      m.TagClass.INVOLVEMENT | m.TagClass.MOODS)\n",
      "\n",
      "def _add_grammeme_features(token, namespace, features, k=1):\n",
      "    for p in m.parse(token):\n",
      "        if p.score < THRESH:\n",
      "            continue\n",
      "        for grammeme in p.tag.grammemes:\n",
      "            if grammeme in FORBIDDEN_GRAMMEMES:\n",
      "                continue\n",
      "            key = \"%s:%s\" % (namespace, grammeme)\n",
      "            features[key] = max(p.score*k, features[key])\n",
      "            if p.score == 1:\n",
      "                features['unambig:'+key] = 1\n",
      "            \n",
      "            seen = set()\n",
      "            for grammeme2 in p.tag.grammemes:\n",
      "                if grammeme2 == grammeme:\n",
      "                    continue                \n",
      "                if grammeme2 in FORBIDDEN_GRAMMEMES:\n",
      "                    continue\n",
      "                    \n",
      "                if grammeme > grammeme2:\n",
      "                    key2 = \"%s:%s,%s\" % (namespace, grammeme, grammeme2)\n",
      "                else:\n",
      "                    key2 = \"%s:%s,%s\" % (namespace, grammeme2, grammeme)\n",
      "                    \n",
      "                if key2 in seen:\n",
      "                    continue\n",
      "                seen.add(key2)\n",
      "                features[key2] = max(p.score*k, features[key2])\n",
      "            \n",
      "                if p.score == 1:\n",
      "                    features['unambig:'+key2] = 1\n",
      "            \n",
      "    \n",
      "\n",
      "def get_features(tokens, i):\n",
      "    token = tokens[i]\n",
      "    features = defaultdict(float)\n",
      "    features['bias'] = 1\n",
      "    \n",
      "    features['i:token:%s' % token.lower()] = 1\n",
      "    _add_grammeme_features(token, \"i\", features, k=2)  # WAS: k=2\n",
      "            \n",
      "    if i > 0:\n",
      "        token = tokens[i-1]\n",
      "        features['i-1:token:%s' % token.lower()] = 1\n",
      "#         features['i-1:bigram:%s/%s' % (token.lower(), tokens[i][0].lower())] = 1\n",
      "        _add_grammeme_features(token, \"i-1\", features)                \n",
      "    else:\n",
      "        features['BOS'] = 1\n",
      "                \n",
      "    if i > 1:\n",
      "        token = tokens[i-2]\n",
      "        features['i-2:token:%s' % token.lower()] = 1\n",
      "#         features['i-2:bigram:%s/%s' % (token.lower(), tokens[i-1][0].lower())] = 1\n",
      "        _add_grammeme_features(token, \"i-2\", features)\n",
      "\n",
      "    if i < len(tokens) - 1:\n",
      "        token = tokens[i+1]\n",
      "        features['i+1:token:%s' % token.lower()] = 1\n",
      "        _add_grammeme_features(token, \"i+1\", features)                \n",
      "    else:\n",
      "        features['EOS'] = 1\n",
      "\n",
      "#     if i < len(tokens) - 2:\n",
      "#         token = tokens[i+2]\n",
      "#         features['i+2:token:%s' % token.lower()] = 1\n",
      "#         _add_grammeme_features(token, \"i+2\", features)                \n",
      "\n",
      "    return dict(features)\n",
      "\n",
      "def tokens2features(tokens):\n",
      "    return [get_features(tokens, i) for i in range(len(tokens))]\n",
      "\n",
      "def sent2features(sent):\n",
      "    return tokens2features(sent2tokens(sent))\n",
      "\n",
      "def sent2tokens(sent):\n",
      "    return [item[0] for item in sent]\n",
      "\n",
      "def sent2y(sent):\n",
      "    return [item[1] for item in sent]\n",
      "\n",
      "def getX(sents):\n",
      "    return [sent2features(s) for s in sents]\n",
      "\n",
      "X_train, X_test = getX(sents_train), getX(sents_test)"
     ],
     "language": "python",
     "metadata": {},
     "outputs": [],
     "prompt_number": 18
    },
    {
     "cell_type": "code",
     "collapsed": false,
     "input": [
      "import pycrfsuite\n",
      "\n",
      "class LessNoisyTrainer(pycrfsuite.Trainer):\n",
      "    \n",
      "    def on_iteration(self, log, info):\n",
      "        if 'avg_precision' in info:\n",
      "            print((\"Iter {num:<3} \"\n",
      "                   \"time={time:<5.2f} \"\n",
      "                   \"loss={loss:<8.2f} \"\n",
      "                   \"active={active_features:<5} \"\n",
      "    #                \"feature_norm={feature_norm:<8.2f} \"\n",
      "                   \"precision={avg_precision:0.3f}  \"\n",
      "                   \"recall={avg_recall:0.3f}  \"\n",
      "                   \"F1={avg_f1:0.3f}  \"\n",
      "                   \"accuracy(item/instance)=\"\n",
      "                   \"{item_accuracy_float:0.3f} {instance_accuracy_float:0.3f}\"\n",
      "                ).format(**info).strip())\n",
      "        else:\n",
      "            print((\"Iter {num:<3} \"\n",
      "                   \"time={time:<5.2f} \"\n",
      "                   \"loss={loss:<8.2f} \"\n",
      "                   \"active={active_features:<5} \"\n",
      "                   \"feature_norm={feature_norm:<8.2f} \"\n",
      "                ).format(**info).strip())\n",
      "            \n",
      "\n",
      "trainer = LessNoisyTrainer('lbfgs')\n",
      "\n",
      "for xseq, yseq in zip(X_train, y_train):\n",
      "    trainer.append(xseq, yseq)\n",
      "    \n",
      "for xseq, yseq in zip(X_test, y_test):\n",
      "    trainer.append(xseq, yseq, 1)\n",
      "\n",
      "# for xseq, yseq in zip(X_test, y_test):\n",
      "#     trainer.append(xseq, yseq)\n",
      "\n",
      "trainer.set_params({\n",
      "    'max_iterations': 80,\n",
      "#     'epsilon': 1e-6,\n",
      "#     'c': 10,\n",
      "#     'type': 2,\n",
      "   'c1': 0.5,\n",
      "   'c2': 0.01,\n",
      "#     'feature.minfreq': 0.05,\n",
      "})"
     ],
     "language": "python",
     "metadata": {},
     "outputs": [],
     "prompt_number": 19
    },
    {
     "cell_type": "code",
     "collapsed": false,
     "input": [
      "%%time\n",
      "trainer.train('models/model-12.crfsuite', 1)"
     ],
     "language": "python",
     "metadata": {},
     "outputs": [
      {
       "output_type": "stream",
       "stream": "stdout",
       "text": [
        "Holdout group: 2\n",
        "\n",
        "Feature generation\n",
        "type: CRF1d\n",
        "feature.minfreq: 0.000000\n",
        "feature.possible_states: 0\n",
        "feature.possible_transitions: 0\n",
        "0."
       ]
      },
      {
       "output_type": "stream",
       "stream": "stdout",
       "text": [
        ".."
       ]
      },
      {
       "output_type": "stream",
       "stream": "stdout",
       "text": [
        ".1"
       ]
      },
      {
       "output_type": "stream",
       "stream": "stdout",
       "text": [
        ".."
       ]
      },
      {
       "output_type": "stream",
       "stream": "stdout",
       "text": [
        "..2"
       ]
      },
      {
       "output_type": "stream",
       "stream": "stdout",
       "text": [
        "..."
       ]
      },
      {
       "output_type": "stream",
       "stream": "stdout",
       "text": [
        ".3."
       ]
      },
      {
       "output_type": "stream",
       "stream": "stdout",
       "text": [
        "..."
       ]
      },
      {
       "output_type": "stream",
       "stream": "stdout",
       "text": [
        "4."
       ]
      },
      {
       "output_type": "stream",
       "stream": "stdout",
       "text": [
        ".."
       ]
      },
      {
       "output_type": "stream",
       "stream": "stdout",
       "text": [
        ".5"
       ]
      },
      {
       "output_type": "stream",
       "stream": "stdout",
       "text": [
        "..."
       ]
      },
      {
       "output_type": "stream",
       "stream": "stdout",
       "text": [
        ".6.."
       ]
      },
      {
       "output_type": "stream",
       "stream": "stdout",
       "text": [
        "..7"
       ]
      },
      {
       "output_type": "stream",
       "stream": "stdout",
       "text": [
        "..."
       ]
      },
      {
       "output_type": "stream",
       "stream": "stdout",
       "text": [
        ".8."
       ]
      },
      {
       "output_type": "stream",
       "stream": "stdout",
       "text": [
        "..."
       ]
      },
      {
       "output_type": "stream",
       "stream": "stdout",
       "text": [
        "9.."
       ]
      },
      {
       "output_type": "stream",
       "stream": "stdout",
       "text": [
        "..10\n",
        "Number of features: 76645\n",
        "Seconds required: 1.216\n"
       ]
      },
      {
       "output_type": "stream",
       "stream": "stdout",
       "text": [
        "\n",
        "L-BFGS optimization\n",
        "c1: 0.500000\n",
        "c2: 0.010000\n",
        "num_memories: 6\n",
        "max_iterations: 80\n",
        "epsilon: 0.000010\n",
        "stop: 10\n",
        "delta: 0.000010\n",
        "linesearch: MoreThuente\n",
        "linesearch.max_iterations: 20\n",
        "\n"
       ]
      },
      {
       "output_type": "stream",
       "stream": "stdout",
       "text": [
        "Iter 1   time=0.42  loss=40921.22 active=73390 precision=0.177  recall=0.194  F1=0.171  accuracy(item/instance)=0.586 0.064\n",
        "Iter 2   time=0.23  loss=23429.97 active=63574 precision=0.422  recall=0.282  F1=0.279  accuracy(item/instance)=0.659 0.064"
       ]
      },
      {
       "output_type": "stream",
       "stream": "stdout",
       "text": [
        "\n",
        "Iter 3   time=0.24  loss=13310.97 active=47397 precision=0.709  recall=0.457  F1=0.530  accuracy(item/instance)=0.732 0.106"
       ]
      },
      {
       "output_type": "stream",
       "stream": "stdout",
       "text": [
        "\n",
        "Iter 4   time=0.23  loss=7219.86  active=39084 precision=0.870  recall=0.620  F1=0.691  accuracy(item/instance)=0.811 0.191"
       ]
      },
      {
       "output_type": "stream",
       "stream": "stdout",
       "text": [
        "\n",
        "Iter 5   time=0.28  loss=4519.11  active=32259 precision=0.859  recall=0.710  F1=0.765  accuracy(item/instance)=0.845 0.202"
       ]
      },
      {
       "output_type": "stream",
       "stream": "stdout",
       "text": [
        "\n",
        "Iter 6   time=0.26  loss=3097.77  active=26547 precision=0.855  recall=0.758  F1=0.800  accuracy(item/instance)=0.864 0.213"
       ]
      },
      {
       "output_type": "stream",
       "stream": "stdout",
       "text": [
        "\n",
        "Iter 7   time=0.23  loss=2222.36  active=21103 precision=0.869  recall=0.799  F1=0.828  accuracy(item/instance)=0.886 0.245"
       ]
      },
      {
       "output_type": "stream",
       "stream": "stdout",
       "text": [
        "\n",
        "Iter 8   time=0.22  loss=1746.62  active=18454 precision=0.862  recall=0.816  F1=0.838  accuracy(item/instance)=0.888 0.255"
       ]
      },
      {
       "output_type": "stream",
       "stream": "stdout",
       "text": [
        "\n",
        "Iter 9   time=0.23  loss=1520.39  active=17731 precision=0.868  recall=0.832  F1=0.847  accuracy(item/instance)=0.900 0.298"
       ]
      },
      {
       "output_type": "stream",
       "stream": "stdout",
       "text": [
        "\n",
        "Iter 10  time=0.24  loss=1370.45  active=16627 precision=0.865  recall=0.847  F1=0.855  accuracy(item/instance)=0.904 0.319"
       ]
      },
      {
       "output_type": "stream",
       "stream": "stdout",
       "text": [
        "\n",
        "Iter 11  time=0.30  loss=1221.69  active=15143 precision=0.868  recall=0.844  F1=0.854  accuracy(item/instance)=0.905 0.319"
       ]
      },
      {
       "output_type": "stream",
       "stream": "stdout",
       "text": [
        "\n",
        "Iter 12  time=0.23  loss=1117.62  active=14421 precision=0.869  recall=0.851  F1=0.859  accuracy(item/instance)=0.908 0.340"
       ]
      },
      {
       "output_type": "stream",
       "stream": "stdout",
       "text": [
        "\n",
        "Iter 13  time=0.23  loss=1029.34  active=13468 precision=0.864  recall=0.851  F1=0.857  accuracy(item/instance)=0.907 0.351"
       ]
      },
      {
       "output_type": "stream",
       "stream": "stdout",
       "text": [
        "\n",
        "Iter 14  time=0.22  loss=942.45   active=12090 precision=0.872  recall=0.854  F1=0.862  accuracy(item/instance)=0.911 0.340"
       ]
      },
      {
       "output_type": "stream",
       "stream": "stdout",
       "text": [
        "\n",
        "Iter 15  time=0.22  loss=879.99   active=11667 precision=0.869  recall=0.860  F1=0.863  accuracy(item/instance)=0.910 0.362"
       ]
      },
      {
       "output_type": "stream",
       "stream": "stdout",
       "text": [
        "\n",
        "Iter 16  time=0.23  loss=840.40   active=11069 precision=0.872  recall=0.861  F1=0.866  accuracy(item/instance)=0.914 0.372"
       ]
      },
      {
       "output_type": "stream",
       "stream": "stdout",
       "text": [
        "\n",
        "Iter 17  time=0.22  loss=791.03   active=10102 precision=0.870  recall=0.860  F1=0.864  accuracy(item/instance)=0.914 0.372"
       ]
      },
      {
       "output_type": "stream",
       "stream": "stdout",
       "text": [
        "\n",
        "Iter 18  time=0.23  loss=744.57   active=9211  precision=0.876  recall=0.858  F1=0.867  accuracy(item/instance)=0.917 0.394"
       ]
      },
      {
       "output_type": "stream",
       "stream": "stdout",
       "text": [
        "\n",
        "Iter 19  time=0.22  loss=713.31   active=8547  precision=0.881  recall=0.865  F1=0.872  accuracy(item/instance)=0.917 0.394"
       ]
      },
      {
       "output_type": "stream",
       "stream": "stdout",
       "text": [
        "\n",
        "Iter 20  time=0.23  loss=683.46   active=7801  precision=0.888  recall=0.872  F1=0.879  accuracy(item/instance)=0.922 0.404"
       ]
      },
      {
       "output_type": "stream",
       "stream": "stdout",
       "text": [
        "\n",
        "Iter 21  time=0.22  loss=652.13   active=6520  precision=0.883  recall=0.871  F1=0.877  accuracy(item/instance)=0.919 0.404"
       ]
      },
      {
       "output_type": "stream",
       "stream": "stdout",
       "text": [
        "\n",
        "Iter 22  time=0.43  loss=647.02   active=6158  precision=0.887  recall=0.876  F1=0.881  accuracy(item/instance)=0.922 0.404"
       ]
      },
      {
       "output_type": "stream",
       "stream": "stdout",
       "text": [
        "\n",
        "Iter 23  time=0.23  loss=634.15   active=6245  precision=0.886  recall=0.874  F1=0.880  accuracy(item/instance)=0.922 0.415"
       ]
      },
      {
       "output_type": "stream",
       "stream": "stdout",
       "text": [
        "\n",
        "Iter 24  time=0.23  loss=627.79   active=6004  precision=0.886  recall=0.875  F1=0.880  accuracy(item/instance)=0.922 0.404"
       ]
      },
      {
       "output_type": "stream",
       "stream": "stdout",
       "text": [
        "\n",
        "Iter 25  time=0.24  loss=617.15   active=5564  precision=0.884  recall=0.874  F1=0.878  accuracy(item/instance)=0.920 0.415"
       ]
      },
      {
       "output_type": "stream",
       "stream": "stdout",
       "text": [
        "\n",
        "Iter 26  time=0.23  loss=604.20   active=4981  precision=0.882  recall=0.875  F1=0.878  accuracy(item/instance)=0.920 0.394"
       ]
      },
      {
       "output_type": "stream",
       "stream": "stdout",
       "text": [
        "\n",
        "Iter 27  time=0.44  loss=599.76   active=4840  precision=0.888  recall=0.875  F1=0.880  accuracy(item/instance)=0.922 0.415"
       ]
      },
      {
       "output_type": "stream",
       "stream": "stdout",
       "text": [
        "\n",
        "Iter 28  time=0.22  loss=593.38   active=4738  precision=0.885  recall=0.875  F1=0.880  accuracy(item/instance)=0.922 0.415"
       ]
      },
      {
       "output_type": "stream",
       "stream": "stdout",
       "text": [
        "\n",
        "Iter 29  time=0.22  loss=589.30   active=4496  precision=0.892  recall=0.878  F1=0.884  accuracy(item/instance)=0.925 0.426"
       ]
      },
      {
       "output_type": "stream",
       "stream": "stdout",
       "text": [
        "\n",
        "Iter 30  time=0.22  loss=584.80   active=4277  precision=0.888  recall=0.876  F1=0.881  accuracy(item/instance)=0.922 0.415"
       ]
      },
      {
       "output_type": "stream",
       "stream": "stdout",
       "text": [
        "\n",
        "Iter 31  time=0.23  loss=580.34   active=4050  precision=0.894  recall=0.879  F1=0.885  accuracy(item/instance)=0.925 0.426"
       ]
      },
      {
       "output_type": "stream",
       "stream": "stdout",
       "text": [
        "\n",
        "Iter 32  time=0.23  loss=575.62   active=3827  precision=0.888  recall=0.876  F1=0.881  accuracy(item/instance)=0.922 0.415"
       ]
      },
      {
       "output_type": "stream",
       "stream": "stdout",
       "text": [
        "\n",
        "Iter 33  time=0.27  loss=571.76   active=3594  precision=0.900  recall=0.879  F1=0.889  accuracy(item/instance)=0.925 0.426"
       ]
      },
      {
       "output_type": "stream",
       "stream": "stdout",
       "text": [
        "\n",
        "Iter 34  time=0.28  loss=568.21   active=3453  precision=0.898  recall=0.879  F1=0.888  accuracy(item/instance)=0.925 0.426"
       ]
      },
      {
       "output_type": "stream",
       "stream": "stdout",
       "text": [
        "\n",
        "Iter 35  time=0.24  loss=565.30   active=3303  precision=0.897  recall=0.877  F1=0.886  accuracy(item/instance)=0.924 0.415"
       ]
      },
      {
       "output_type": "stream",
       "stream": "stdout",
       "text": [
        "\n",
        "Iter 36  time=0.23  loss=562.01   active=3110  precision=0.897  recall=0.878  F1=0.887  accuracy(item/instance)=0.924 0.426"
       ]
      },
      {
       "output_type": "stream",
       "stream": "stdout",
       "text": [
        "\n",
        "Iter 37  time=0.30  loss=559.37   active=2944  precision=0.897  recall=0.879  F1=0.887  accuracy(item/instance)=0.925 0.426"
       ]
      },
      {
       "output_type": "stream",
       "stream": "stdout",
       "text": [
        "\n",
        "Iter 38  time=0.23  loss=557.21   active=2850  precision=0.898  recall=0.881  F1=0.889  accuracy(item/instance)=0.925 0.426"
       ]
      },
      {
       "output_type": "stream",
       "stream": "stdout",
       "text": [
        "\n",
        "Iter 39  time=0.23  loss=555.39   active=2785  precision=0.897  recall=0.879  F1=0.887  accuracy(item/instance)=0.925 0.426"
       ]
      },
      {
       "output_type": "stream",
       "stream": "stdout",
       "text": [
        "\n",
        "Iter 40  time=0.23  loss=553.34   active=2710  precision=0.898  recall=0.881  F1=0.889  accuracy(item/instance)=0.925 0.426"
       ]
      },
      {
       "output_type": "stream",
       "stream": "stdout",
       "text": [
        "\n",
        "Iter 41  time=0.22  loss=551.68   active=2585  precision=0.898  recall=0.882  F1=0.889  accuracy(item/instance)=0.926 0.426"
       ]
      },
      {
       "output_type": "stream",
       "stream": "stdout",
       "text": [
        "\n",
        "Iter 42  time=0.24  loss=550.01   active=2550  precision=0.897  recall=0.883  F1=0.890  accuracy(item/instance)=0.926 0.426"
       ]
      },
      {
       "output_type": "stream",
       "stream": "stdout",
       "text": [
        "\n",
        "Iter 43  time=0.31  loss=548.81   active=2532  precision=0.898  recall=0.882  F1=0.889  accuracy(item/instance)=0.926 0.426"
       ]
      },
      {
       "output_type": "stream",
       "stream": "stdout",
       "text": [
        "\n",
        "Iter 44  time=0.25  loss=547.65   active=2446  precision=0.897  recall=0.883  F1=0.890  accuracy(item/instance)=0.926 0.426"
       ]
      },
      {
       "output_type": "stream",
       "stream": "stdout",
       "text": [
        "\n",
        "Iter 45  time=0.25  loss=546.56   active=2398  precision=0.898  recall=0.882  F1=0.889  accuracy(item/instance)=0.926 0.426"
       ]
      },
      {
       "output_type": "stream",
       "stream": "stdout",
       "text": [
        "\n",
        "Iter 46  time=0.26  loss=545.62   active=2343  precision=0.898  recall=0.884  F1=0.891  accuracy(item/instance)=0.927 0.426"
       ]
      },
      {
       "output_type": "stream",
       "stream": "stdout",
       "text": [
        "\n",
        "Iter 47  time=0.22  loss=544.64   active=2321  precision=0.899  recall=0.883  F1=0.891  accuracy(item/instance)=0.927 0.426"
       ]
      },
      {
       "output_type": "stream",
       "stream": "stdout",
       "text": [
        "\n",
        "Iter 48  time=0.23  loss=543.84   active=2282  precision=0.897  recall=0.883  F1=0.890  accuracy(item/instance)=0.926 0.426"
       ]
      },
      {
       "output_type": "stream",
       "stream": "stdout",
       "text": [
        "\n",
        "Iter 49  time=0.26  loss=543.07   active=2244  precision=0.899  recall=0.885  F1=0.892  accuracy(item/instance)=0.927 0.426"
       ]
      },
      {
       "output_type": "stream",
       "stream": "stdout",
       "text": [
        "\n",
        "Iter 50  time=0.22  loss=542.40   active=2183  precision=0.898  recall=0.884  F1=0.891  accuracy(item/instance)=0.927 0.426"
       ]
      },
      {
       "output_type": "stream",
       "stream": "stdout",
       "text": [
        "\n",
        "Iter 51  time=0.22  loss=541.50   active=2159  precision=0.898  recall=0.884  F1=0.891  accuracy(item/instance)=0.927 0.426"
       ]
      },
      {
       "output_type": "stream",
       "stream": "stdout",
       "text": [
        "\n",
        "Iter 52  time=0.22  loss=540.97   active=2129  precision=0.898  recall=0.884  F1=0.891  accuracy(item/instance)=0.927 0.426"
       ]
      },
      {
       "output_type": "stream",
       "stream": "stdout",
       "text": [
        "\n",
        "Iter 53  time=0.23  loss=540.25   active=2105  precision=0.897  recall=0.883  F1=0.890  accuracy(item/instance)=0.926 0.426"
       ]
      },
      {
       "output_type": "stream",
       "stream": "stdout",
       "text": [
        "\n",
        "Iter 54  time=0.23  loss=539.88   active=2053  precision=0.899  recall=0.886  F1=0.892  accuracy(item/instance)=0.927 0.426"
       ]
      },
      {
       "output_type": "stream",
       "stream": "stdout",
       "text": [
        "\n",
        "Iter 55  time=0.22  loss=539.13   active=2027  precision=0.900  recall=0.886  F1=0.893  accuracy(item/instance)=0.928 0.426"
       ]
      },
      {
       "output_type": "stream",
       "stream": "stdout",
       "text": [
        "\n",
        "Iter 56  time=0.22  loss=538.63   active=1988  precision=0.899  recall=0.886  F1=0.892  accuracy(item/instance)=0.927 0.426"
       ]
      },
      {
       "output_type": "stream",
       "stream": "stdout",
       "text": [
        "\n",
        "Iter 57  time=0.29  loss=538.09   active=1958  precision=0.903  recall=0.887  F1=0.894  accuracy(item/instance)=0.929 0.436"
       ]
      },
      {
       "output_type": "stream",
       "stream": "stdout",
       "text": [
        "\n",
        "Iter 58  time=0.23  loss=537.78   active=1929  precision=0.899  recall=0.886  F1=0.892  accuracy(item/instance)=0.927 0.426"
       ]
      },
      {
       "output_type": "stream",
       "stream": "stdout",
       "text": [
        "\n",
        "Iter 59  time=0.23  loss=537.12   active=1908  precision=0.900  recall=0.886  F1=0.893  accuracy(item/instance)=0.928 0.426"
       ]
      },
      {
       "output_type": "stream",
       "stream": "stdout",
       "text": [
        "\n",
        "Iter 60  time=0.27  loss=536.73   active=1891  precision=0.899  recall=0.886  F1=0.892  accuracy(item/instance)=0.927 0.426"
       ]
      },
      {
       "output_type": "stream",
       "stream": "stdout",
       "text": [
        "\n",
        "Iter 61  time=0.23  loss=536.29   active=1878  precision=0.904  recall=0.888  F1=0.896  accuracy(item/instance)=0.930 0.426"
       ]
      },
      {
       "output_type": "stream",
       "stream": "stdout",
       "text": [
        "\n",
        "Iter 62  time=0.23  loss=535.98   active=1869  precision=0.901  recall=0.886  F1=0.893  accuracy(item/instance)=0.928 0.426"
       ]
      },
      {
       "output_type": "stream",
       "stream": "stdout",
       "text": [
        "\n",
        "Iter 63  time=0.24  loss=535.39   active=1850  precision=0.905  recall=0.887  F1=0.896  accuracy(item/instance)=0.930 0.426"
       ]
      },
      {
       "output_type": "stream",
       "stream": "stdout",
       "text": [
        "\n",
        "Iter 64  time=0.28  loss=535.23   active=1833  precision=0.900  recall=0.887  F1=0.893  accuracy(item/instance)=0.928 0.426"
       ]
      },
      {
       "output_type": "stream",
       "stream": "stdout",
       "text": [
        "\n",
        "Iter 65  time=0.23  loss=534.68   active=1817  precision=0.904  recall=0.887  F1=0.895  accuracy(item/instance)=0.929 0.415"
       ]
      },
      {
       "output_type": "stream",
       "stream": "stdout",
       "text": [
        "\n",
        "Iter 66  time=0.23  loss=534.45   active=1803  precision=0.904  recall=0.889  F1=0.896  accuracy(item/instance)=0.930 0.426"
       ]
      },
      {
       "output_type": "stream",
       "stream": "stdout",
       "text": [
        "\n",
        "Iter 67  time=0.23  loss=533.98   active=1792  precision=0.904  recall=0.887  F1=0.895  accuracy(item/instance)=0.929 0.415"
       ]
      },
      {
       "output_type": "stream",
       "stream": "stdout",
       "text": [
        "\n",
        "Iter 68  time=0.22  loss=533.63   active=1761  precision=0.904  recall=0.889  F1=0.897  accuracy(item/instance)=0.930 0.415"
       ]
      },
      {
       "output_type": "stream",
       "stream": "stdout",
       "text": [
        "\n",
        "Iter 69  time=0.23  loss=533.29   active=1724  precision=0.904  recall=0.888  F1=0.895  accuracy(item/instance)=0.929 0.415"
       ]
      },
      {
       "output_type": "stream",
       "stream": "stdout",
       "text": [
        "\n",
        "Iter 70  time=0.32  loss=533.10   active=1708  precision=0.904  recall=0.889  F1=0.897  accuracy(item/instance)=0.930 0.415"
       ]
      },
      {
       "output_type": "stream",
       "stream": "stdout",
       "text": [
        "\n",
        "Iter 71  time=0.22  loss=532.53   active=1703  precision=0.904  recall=0.889  F1=0.896  accuracy(item/instance)=0.929 0.404"
       ]
      },
      {
       "output_type": "stream",
       "stream": "stdout",
       "text": [
        "\n",
        "Iter 72  time=0.22  loss=532.19   active=1707  precision=0.904  recall=0.889  F1=0.897  accuracy(item/instance)=0.930 0.415"
       ]
      },
      {
       "output_type": "stream",
       "stream": "stdout",
       "text": [
        "\n",
        "Iter 73  time=0.27  loss=531.82   active=1693  precision=0.903  recall=0.888  F1=0.895  accuracy(item/instance)=0.928 0.404"
       ]
      },
      {
       "output_type": "stream",
       "stream": "stdout",
       "text": [
        "\n",
        "Iter 74  time=0.23  loss=531.55   active=1690  precision=0.903  recall=0.888  F1=0.895  accuracy(item/instance)=0.928 0.404"
       ]
      },
      {
       "output_type": "stream",
       "stream": "stdout",
       "text": [
        "\n",
        "Iter 75  time=0.22  loss=531.16   active=1665  precision=0.903  recall=0.888  F1=0.895  accuracy(item/instance)=0.928 0.404"
       ]
      },
      {
       "output_type": "stream",
       "stream": "stdout",
       "text": [
        "\n",
        "Iter 76  time=0.23  loss=530.91   active=1631  precision=0.902  recall=0.887  F1=0.894  accuracy(item/instance)=0.928 0.404"
       ]
      },
      {
       "output_type": "stream",
       "stream": "stdout",
       "text": [
        "\n",
        "Iter 77  time=0.31  loss=530.51   active=1628  precision=0.903  recall=0.888  F1=0.895  accuracy(item/instance)=0.928 0.404"
       ]
      },
      {
       "output_type": "stream",
       "stream": "stdout",
       "text": [
        "\n",
        "Iter 78  time=0.25  loss=530.37   active=1612  precision=0.902  recall=0.887  F1=0.894  accuracy(item/instance)=0.928 0.404"
       ]
      },
      {
       "output_type": "stream",
       "stream": "stdout",
       "text": [
        "\n",
        "Iter 79  time=0.26  loss=529.92   active=1598  precision=0.903  recall=0.888  F1=0.895  accuracy(item/instance)=0.928 0.404"
       ]
      },
      {
       "output_type": "stream",
       "stream": "stdout",
       "text": [
        "\n",
        "Iter 80  time=0.28  loss=529.88   active=1600  precision=0.904  recall=0.886  F1=0.895  accuracy(item/instance)=0.927 0.404"
       ]
      },
      {
       "output_type": "stream",
       "stream": "stdout",
       "text": [
        "\n",
        "L-BFGS terminated with the maximum number of iterations\n",
        "Total seconds required for training: 19.811\n",
        "\n",
        "Storing the model\n",
        "Number of active features: 1600 (76645)\n",
        "Number of active attributes: 999 (53363)\n",
        "Number of active labels: 7 (7)\n",
        "Writing labels\n",
        "Writing attributes\n",
        "Writing feature references for transitions\n",
        "Writing feature references for attributes\n",
        "Seconds required: 0.006\n",
        "\n",
        "CPU times: user 20.9 s, sys: 109 ms, total: 21 s\n",
        "Wall time: 21 s\n"
       ]
      }
     ],
     "prompt_number": 27
    },
    {
     "cell_type": "code",
     "collapsed": false,
     "input": [
      "trainer.get_params()"
     ],
     "language": "python",
     "metadata": {},
     "outputs": [
      {
       "metadata": {},
       "output_type": "pyout",
       "prompt_number": 28,
       "text": [
        "{'delta': 1e-05,\n",
        " 'c2': 0.01,\n",
        " 'max_linesearch': 20,\n",
        " 'period': 10,\n",
        " 'feature.possible_transitions': False,\n",
        " 'epsilon': 1e-05,\n",
        " 'linesearch': 'MoreThuente',\n",
        " 'c1': 0.5,\n",
        " 'max_iterations': 80,\n",
        " 'feature.possible_states': False,\n",
        " 'feature.minfreq': 0.0,\n",
        " 'num_memories': 6}"
       ]
      }
     ],
     "prompt_number": 28
    },
    {
     "cell_type": "code",
     "collapsed": false,
     "input": [
      "tagger = pycrfsuite.Tagger()\n",
      "tagger.open('models/model-12.crfsuite')"
     ],
     "language": "python",
     "metadata": {},
     "outputs": [
      {
       "metadata": {},
       "output_type": "pyout",
       "prompt_number": 29,
       "text": [
        "<contextlib.closing at 0x11eadcf98>"
       ]
      }
     ],
     "prompt_number": 29
    },
    {
     "cell_type": "code",
     "collapsed": false,
     "input": [
      "info = tagger.info()\n",
      "from collections import Counter\n",
      "\n",
      "cnt_trans = Counter(info.transitions)\n",
      "cnt_state = Counter(info.state_features)\n",
      "\n",
      "print(len(cnt_state))\n",
      "\n",
      "# Counter(info.transitions).most_common()\n",
      "# info.state_features\n",
      "[v for v in cnt_state.most_common() if 'i+1' in v[0][0]]\n",
      "# cnt_trans.most_common()"
     ],
     "language": "python",
     "metadata": {},
     "outputs": [
      {
       "output_type": "stream",
       "stream": "stdout",
       "text": [
        "1572\n"
       ]
      },
      {
       "metadata": {},
       "output_type": "pyout",
       "prompt_number": 30,
       "text": [
        "[(('i+1:token:\u043d\u0435\u0442', 'gent'), 2.356573),\n",
        " (('i+1:plur,loct', 'loct'), 2.261851),\n",
        " (('i+1:token:\u0432\u0435\u0440\u0443\u044e\u0449\u0438\u0445', 'nomn'), 1.54064),\n",
        " (('i+1:token:\u0433\u043e\u0439\u0438', 'accs'), 1.439646),\n",
        " (('i+1:token:\u0443\u0434\u0430\u043b\u043e\u0441\u044c', 'accs'), 1.390432),\n",
        " (('i+1:PRED', 'accs'), 1.315811),\n",
        " (('i+1:pres,PRED', 'accs'), 1.315811),\n",
        " (('i+1:gent,femn', 'gent'), 1.258567),\n",
        " (('i+1:tran,past', 'accs'), 1.067378),\n",
        " (('i+1:plur,NOUN', 'datv'), 1.047563),\n",
        " (('i+1:sing,neut', 'nomn'), 1.002115),\n",
        " (('i+1:nomn,inan', 'accs'), 0.978682),\n",
        " (('i+1:token:\u0441\u043c\u0438', 'accs'), 0.852168),\n",
        " (('i+1:token:\u0434\u043e\u043b\u043b\u0430\u0440\u043e\u0432', 'accs'), 0.814067),\n",
        " (('i+1:tran,sing', 'nomn'), 0.753328),\n",
        " (('i+1:token:!', 'nomn'), 0.742419),\n",
        " (('i+1:plur,intr', 'nomn'), 0.738442),\n",
        " (('i+1:sing,intr', 'gent'), 0.686234),\n",
        " (('i+1:sing,ablt', 'ablt'), 0.659065),\n",
        " (('i+1:ablt', 'ablt'), 0.639773),\n",
        " (('i+1:token:\u043e\u0442\u0446\u0430', 'nomn'), 0.607304),\n",
        " (('i+1:token:\u00bb', 'gent'), 0.601045),\n",
        " (('i+1:ablt,NOUN', 'ablt'), 0.590321),\n",
        " (('i+1:token:\u0434\u0435\u043b\u044f\u0442\u0441\u044f', 'nomn'), 0.577587),\n",
        " (('i+1:tran,perf', 'datv'), 0.560743),\n",
        " (('i+1:gent', 'nomn'), 0.560131),\n",
        " (('i+1:nomn,NPRO', 'accs'), 0.549427),\n",
        " (('unambig:i+1:nomn,NPRO', 'accs'), 0.541925),\n",
        " (('unambig:i+1:nomn,NOUN', 'nomn'), 0.528403),\n",
        " (('i+1:token:\u0440\u0430\u0437\u043c\u0435\u0441\u0442\u0438\u0442\u044c', 'datv'), 0.506042),\n",
        " (('unambig:i+1:perf,past', 'gent'), 0.489177),\n",
        " (('unambig:i+1:PREP', 'nomn'), 0.488829),\n",
        " (('i+1:token:\u0434\u043e\u043b\u043e\u0439', 'accs'), 0.484933),\n",
        " (('i+1:token:\u0432\u043e', 'nomn'), 0.468113),\n",
        " (('i+1:token:(', 'nomn'), 0.450778),\n",
        " (('i+1:token:\u0441\u043b\u043e\u0432\u0430', 'nomn'), 0.450686),\n",
        " (('unambig:i+1:PREP', 'ablt'), 0.448912),\n",
        " (('unambig:i+1:tran,past', 'accs'), 0.434714),\n",
        " (('i+1:sing,gent', 'nomn'), 0.431974),\n",
        " (('i+1:token:\u043a', 'accs'), 0.413905),\n",
        " (('i+1:token:\u0441\u043e\u0441\u0442\u043e\u044f\u0442', 'nomn'), 0.413064),\n",
        " (('i+1:datv,NOUN', 'datv'), 0.412396),\n",
        " (('unambig:i+1:NPRO', 'accs'), 0.407181),\n",
        " (('i+1:token:\u043f\u043e\u043b\u043d\u043e\u043c\u043e\u0447\u0438\u0439', 'datv'), 0.363526),\n",
        " (('i+1:token:\u0441\u043a\u0430\u0437\u0430\u043b', 'accs'), 0.350134),\n",
        " (('i+1:sing,femn', 'datv'), 0.34992),\n",
        " (('unambig:i+1:sing,NPRO', 'accs'), 0.338477),\n",
        " (('i+1:token:,', 'NA'), 0.33034),\n",
        " (('i+1:femn', 'datv'), 0.322719),\n",
        " (('i+1:perf,VERB', 'accs'), 0.318513),\n",
        " (('i+1:sing', 'NA'), 0.316287),\n",
        " (('unambig:i+1:plur,neut', 'datv'), 0.315943),\n",
        " (('i+1:token:\u0445\u0432\u0430\u0442\u0438\u0442', 'gent'), 0.311031),\n",
        " (('unambig:i+1:ADVB', 'accs'), 0.305085),\n",
        " (('i+1:token:,', 'accs'), 0.286457),\n",
        " (('i+1:masc', 'nomn'), 0.285596),\n",
        " (('i+1:pres', 'accs'), 0.284843),\n",
        " (('unambig:i+1:tran', 'accs'), 0.280615),\n",
        " (('i+1:token:\u043e\u0431\u043c\u0435\u043d\u0430', 'accs'), 0.277288),\n",
        " (('unambig:i+1:plur,NOUN', 'datv'), 0.271313),\n",
        " (('i+1:pres,plur', 'nomn'), 0.270597),\n",
        " (('i+1:anim', 'nomn'), 0.26911),\n",
        " (('i+1:masc,NOUN', 'NA'), 0.264862),\n",
        " (('i+1:plur,neut', 'datv'), 0.263478),\n",
        " (('i+1:tran', 'accs'), 0.254611),\n",
        " (('i+1:sing,masc', 'NA'), 0.241759),\n",
        " (('unambig:i+1:masc', 'loct'), 0.2415),\n",
        " (('i+1:NOUN', 'NA'), 0.240124),\n",
        " (('i+1:sing,masc', 'nomn'), 0.239752),\n",
        " (('i+1:inan,gent', 'gent'), 0.23949),\n",
        " (('i+1:token:?', 'nomn'), 0.236229),\n",
        " (('i+1:impf,INFN', 'NA'), 0.236111),\n",
        " (('unambig:i+1:ablt,NOUN', 'ablt'), 0.234202),\n",
        " (('i+1:PRCL', 'gent'), 0.228267),\n",
        " (('i+1:masc,anim', 'nomn'), 0.216911),\n",
        " (('unambig:i+1:impf,INFN', 'NA'), 0.214285),\n",
        " (('unambig:i+1:tran,VERB', 'accs'), 0.207618),\n",
        " (('unambig:i+1:inan,ablt', 'ablt'), 0.203286),\n",
        " (('i+1:indc,impf', 'nomn'), 0.202959),\n",
        " (('unambig:i+1:perf,VERB', 'accs'), 0.201431),\n",
        " (('i+1:token:\u2013', 'nomn'), 0.193149),\n",
        " (('i+1:token:-', 'nomn'), 0.192502),\n",
        " (('unambig:i+1:PNCT', 'nomn'), 0.190981),\n",
        " (('i+1:PNCT', 'nomn'), 0.190981),\n",
        " (('i+1:neut', 'nomn'), 0.183389),\n",
        " (('i+1:masc,inan', 'accs'), 0.180286),\n",
        " (('i+1:token:\u043e\u0442\u043e\u0433\u043d\u0430\u043b\u0438', 'accs'), 0.179278),\n",
        " (('i+1:plur,impf', 'nomn'), 0.171809),\n",
        " (('i+1:token:.', 'gent'), 0.171082),\n",
        " (('i+1:token:\u2014', 'nomn'), 0.164745),\n",
        " (('i+1:impf,VERB', 'nomn'), 0.157235),\n",
        " (('i+1:tran,perf', 'accs'), 0.157043),\n",
        " (('i+1:nomn', 'accs'), 0.146734),\n",
        " (('unambig:i+1:Vpre,PREP', 'nomn'), 0.14144),\n",
        " (('unambig:i+1:Vpre', 'nomn'), 0.14144),\n",
        " (('i+1:nomn', 'NA'), 0.138998),\n",
        " (('i+1:tran,VERB', 'accs'), 0.131631),\n",
        " (('i+1:token:\u043d\u0438\u043a\u0442\u043e', 'accs'), 0.131386),\n",
        " (('unambig:i+1:sing,perf', 'gent'), 0.130392),\n",
        " (('i+1:token:\u043d\u0430', 'gent'), 0.125683),\n",
        " (('i+1:token:\u043e', 'accs'), 0.123115),\n",
        " (('i+1:token:\u0438', 'gent'), 0.116002),\n",
        " (('i+1:CONJ', 'gent'), 0.10932),\n",
        " (('unambig:i+1:past,intr', 'gent'), 0.108652),\n",
        " (('unambig:i+1:tran,indc', 'accs'), 0.108089),\n",
        " (('i+1:token:\u0434\u0430\u0440\u043e\u0432\u0430\u043b\u0438', 'datv'), 0.107199),\n",
        " (('i+1:sing,indc', 'nomn'), 0.104212),\n",
        " (('i+1:sing', 'nomn'), 0.103788),\n",
        " (('i+1:NOUN', 'nomn'), 0.103169),\n",
        " (('i+1:sing,nomn', 'NA'), 0.098963),\n",
        " (('i+1:sing,NOUN', 'nomn'), 0.096725),\n",
        " (('i+1:masc,NOUN', 'accs'), 0.094044),\n",
        " (('i+1:token:;', 'accs'), 0.087348),\n",
        " (('unambig:i+1:indc,impf', 'nomn'), 0.084118),\n",
        " (('i+1:past,intr', 'gent'), 0.078038),\n",
        " (('i+1:tran,plur', 'accs'), 0.077591),\n",
        " (('unambig:i+1:perf,femn', 'gent'), 0.072393),\n",
        " (('unambig:i+1:impf,VERB', 'nomn'), 0.07135),\n",
        " (('i+1:plur,indc', 'accs'), 0.0664),\n",
        " (('i+1:tran,indc', 'accs'), 0.065061),\n",
        " (('unambig:i+1:plur,inan', 'datv'), 0.060588),\n",
        " (('i+1:token:\u0442\u0430\u043a', 'gent'), 0.059531),\n",
        " (('i+1:perf,femn', 'gent'), 0.058142),\n",
        " (('unambig:i+1:sing,masc', 'loct'), 0.052204),\n",
        " (('i+1:sing,past', 'nomn'), 0.05028),\n",
        " (('i+1:gent,NOUN', 'nomn'), 0.049235),\n",
        " (('i+1:sing,nomn', 'accs'), 0.048679),\n",
        " (('unambig:i+1:indc,3per', 'nomn'), 0.047553),\n",
        " (('unambig:i+1:VERB,3per', 'nomn'), 0.047553),\n",
        " (('unambig:i+1:past', 'gent'), 0.046964),\n",
        " (('unambig:i+1:perf,indc', 'accs'), 0.046232),\n",
        " (('i+1:plur,VERB', 'accs'), 0.045803),\n",
        " (('i+1:sing,PRTS', 'loct'), 0.045537),\n",
        " (('i+1:token:\u043d\u0430', 'datv'), 0.045274),\n",
        " (('i+1:perf,indc', 'accs'), 0.042365),\n",
        " (('i+1:inan,ablt', 'ablt'), 0.041699),\n",
        " (('i+1:pssv,PRTS', 'loct'), 0.039612),\n",
        " (('i+1:PRTS', 'loct'), 0.039612),\n",
        " (('i+1:past,PRTS', 'loct'), 0.039258),\n",
        " (('i+1:perf,PRTS', 'loct'), 0.039235),\n",
        " (('unambig:i+1:past,femn', 'gent'), 0.037858),\n",
        " (('unambig:i+1:tran,sing', 'nomn'), 0.037193),\n",
        " (('unambig:i+1:neut,NOUN', 'datv'), 0.035916),\n",
        " (('unambig:i+1:neut,inan', 'datv'), 0.035916),\n",
        " (('unambig:i+1:VERB', 'accs'), 0.033907),\n",
        " (('i+1:token:.', 'ablt'), 0.033752),\n",
        " (('unambig:i+1:femn', 'gent'), 0.033553),\n",
        " (('i+1:Vpre,PREP', 'nomn'), 0.032885),\n",
        " (('i+1:Vpre', 'nomn'), 0.032885),\n",
        " (('i+1:token:!', 'datv'), 0.025857),\n",
        " (('i+1:pssv,past', 'loct'), 0.024425),\n",
        " (('i+1:sing,pssv', 'loct'), 0.024399),\n",
        " (('i+1:pssv,perf', 'loct'), 0.024372),\n",
        " (('i+1:femn', 'NA'), 0.022798),\n",
        " (('i+1:intr,impf', 'nomn'), 0.021993),\n",
        " (('i+1:femn', 'gent'), 0.02141),\n",
        " (('i+1:plur', 'datv'), 0.020684),\n",
        " (('unambig:i+1:sing,PRTS', 'loct'), 0.020351),\n",
        " (('i+1:pssv', 'loct'), 0.019679),\n",
        " (('i+1:indc', 'nomn'), 0.018176),\n",
        " (('i+1:indc,VERB', 'nomn'), 0.018176),\n",
        " (('i+1:token:\u043e\u0431\u043d\u043e\u0432\u043b\u0435\u043d\u0438\u044f', 'accs'), 0.017283),\n",
        " (('unambig:i+1:sing,pssv', 'loct'), 0.016183),\n",
        " (('unambig:i+1:pssv', 'loct'), 0.015943),\n",
        " (('unambig:i+1:pssv,perf', 'loct'), 0.015803),\n",
        " (('unambig:i+1:pssv,past', 'loct'), 0.015803),\n",
        " (('unambig:i+1:PNCT', 'ablt'), 0.01579),\n",
        " (('i+1:PNCT', 'ablt'), 0.01579),\n",
        " (('i+1:sing,VERB', 'nomn'), 0.015325),\n",
        " (('unambig:i+1:perf,PRTS', 'loct'), 0.015011),\n",
        " (('unambig:i+1:pssv,PRTS', 'loct'), 0.015011),\n",
        " (('unambig:i+1:PRTS', 'loct'), 0.015011),\n",
        " (('unambig:i+1:past,PRTS', 'loct'), 0.015011),\n",
        " (('i+1:PREP', 'nomn'), 0.014867),\n",
        " (('i+1:token:\u0438', 'nomn'), 0.011713),\n",
        " (('unambig:i+1:PNCT', 'gent'), 0.007293),\n",
        " (('i+1:PNCT', 'gent'), 0.007293),\n",
        " (('unambig:i+1:sing', 'loct'), 0.007193),\n",
        " (('i+1:neut,NOUN', 'datv'), 0.004845),\n",
        " (('i+1:neut,inan', 'datv'), 0.004795),\n",
        " (('unambig:i+1:nomn', 'loct'), 0.003677),\n",
        " (('i+1:neut,PRTS', 'loct'), 0.00342),\n",
        " (('i+1:past,VERB', 'accs'), 0.003281),\n",
        " (('i+1:past,indc', 'accs'), 0.003281),\n",
        " (('i+1:sing,futr', 'gent'), 0.002553),\n",
        " (('unambig:i+1:sing,nomn', 'loct'), 0.002458),\n",
        " (('i+1:pssv,neut', 'loct'), 0.002322),\n",
        " (('i+1:inan', 'accs'), 0.002035),\n",
        " (('unambig:i+1:sing,NOUN', 'ablt'), 0.000951),\n",
        " (('unambig:i+1:sing', 'accs'), 0.000523),\n",
        " (('i+1:sing,NOUN', 'NA'), 0.000388),\n",
        " (('unambig:i+1:sing,past', 'gent'), 0.000166),\n",
        " (('i+1:indc,impf', 'datv'), 0.000129),\n",
        " (('i+1:sing,perf', 'gent'), 0.000102),\n",
        " (('i+1:impf,VERB', 'datv'), 6.1e-05),\n",
        " (('i+1:tran,impf', 'accs'), 2.7e-05),\n",
        " (('unambig:i+1:past,indc', 'accs'), 1.2e-05),\n",
        " (('unambig:i+1:past,VERB', 'accs'), 1.2e-05),\n",
        " (('i+1:token:\u043d\u0430\u0439\u0434\u0435\u043d\u043e', 'loct'), 1e-05),\n",
        " (('unambig:i+1:neut,PRTS', 'loct'), 1e-05),\n",
        " (('unambig:i+1:pssv,neut', 'loct'), 1e-05),\n",
        " (('unambig:i+1:tran,impf', 'accs'), 6e-06),\n",
        " (('i+1:perf,neut', 'datv'), -2e-06),\n",
        " (('i+1:past,neut', 'datv'), -4e-06),\n",
        " (('i+1:sing,PRTS', 'datv'), -9e-06),\n",
        " (('i+1:PRTS', 'datv'), -9e-06),\n",
        " (('i+1:pssv,PRTS', 'datv'), -9e-06),\n",
        " (('i+1:past,PRTS', 'datv'), -9e-06),\n",
        " (('i+1:sing,pssv', 'datv'), -1e-05),\n",
        " (('i+1:pssv,past', 'datv'), -1.1e-05),\n",
        " (('i+1:intr,3per', 'gent'), -2e-05),\n",
        " (('i+1:token:\u0441\u043a\u0430\u0437\u0430\u043b', 'NA'), -2.9e-05),\n",
        " (('i+1:gent', 'accs'), -3.6e-05),\n",
        " (('i+1:token:\u0432', 'accs'), -7.9e-05),\n",
        " (('i+1:token:\u043e', 'NA'), -9.3e-05),\n",
        " (('unambig:i+1:sing,past', 'NA'), -0.000102),\n",
        " (('unambig:i+1:sing,inan', 'NA'), -0.000134),\n",
        " (('unambig:i+1:LATN', 'datv'), -0.00016),\n",
        " (('i+1:LATN', 'datv'), -0.000161),\n",
        " (('i+1:plur,intr', 'gent'), -0.000547),\n",
        " (('unambig:i+1:femn', 'nomn'), -0.001089),\n",
        " (('i+1:tran', 'nomn'), -0.001423),\n",
        " (('i+1:token:\u2013', 'NA'), -0.001457),\n",
        " (('i+1:CONJ', 'accs'), -0.002139),\n",
        " (('i+1:inan', 'nomn'), -0.002213),\n",
        " (('i+1:inan,gent', 'accs'), -0.003399),\n",
        " (('unambig:i+1:perf', 'nomn'), -0.005383),\n",
        " (('i+1:inan,femn', 'accs'), -0.005393),\n",
        " (('i+1:pssv', 'datv'), -0.005869),\n",
        " (('unambig:i+1:PREP', 'gent'), -0.006238),\n",
        " (('i+1:pres', 'datv'), -0.007175),\n",
        " (('i+1:token:.', 'datv'), -0.008835),\n",
        " (('unambig:i+1:sing,past', 'datv'), -0.011123),\n",
        " (('unambig:i+1:perf,past', 'nomn'), -0.01883),\n",
        " (('i+1:token:\"', 'gent'), -0.019928),\n",
        " (('unambig:i+1:pres', 'gent'), -0.024705),\n",
        " (('unambig:i+1:perf,past', 'datv'), -0.02713),\n",
        " (('i+1:sing,femn', 'nomn'), -0.036203),\n",
        " (('unambig:i+1:sing,neut', 'datv'), -0.036779),\n",
        " (('i+1:sing', 'accs'), -0.038389),\n",
        " (('i+1:masc,Name', 'nomn'), -0.041616),\n",
        " (('i+1:pres', 'gent'), -0.042937),\n",
        " (('unambig:i+1:sing,perf', 'datv'), -0.044127),\n",
        " (('i+1:sing,past', 'datv'), -0.045249),\n",
        " (('unambig:i+1:impf,INFN', 'nomn'), -0.04589),\n",
        " (('i+1:femn,NOUN', 'accs'), -0.046297),\n",
        " (('unambig:i+1:PNCT', 'datv'), -0.04727),\n",
        " (('i+1:PNCT', 'datv'), -0.04727),\n",
        " (('unambig:i+1:sing,nomn', 'gent'), -0.04728),\n",
        " (('unambig:i+1:intr', 'accs'), -0.048956),\n",
        " (('i+1:neut,inan', 'accs'), -0.053531),\n",
        " (('i+1:neut,NOUN', 'accs'), -0.053734),\n",
        " (('unambig:i+1:plur,gent', 'nomn'), -0.05745),\n",
        " (('i+1:plur', 'gent'), -0.057674),\n",
        " (('i+1:intr,VERB', 'accs'), -0.060756),\n",
        " (('i+1:sing,intr', 'accs'), -0.061011),\n",
        " (('unambig:i+1:sing,masc', 'accs'), -0.06645),\n",
        " (('i+1:intr,indc', 'accs'), -0.074615),\n",
        " (('unambig:i+1:impf', 'gent'), -0.074893),\n",
        " (('unambig:i+1:tran', 'nomn'), -0.074995),\n",
        " (('i+1:sing,neut', 'datv'), -0.075119),\n",
        " (('i+1:impf,INFN', 'nomn'), -0.079353),\n",
        " (('i+1:tran,perf', 'NA'), -0.082573),\n",
        " (('i+1:loct', 'gent'), -0.084693),\n",
        " (('i+1:intr,impf', 'accs'), -0.088355),\n",
        " (('i+1:inan,NOUN', 'ablt'), -0.088529),\n",
        " (('unambig:i+1:sing,femn', 'nomn'), -0.088958),\n",
        " (('i+1:inan', 'ablt'), -0.088959),\n",
        " (('unambig:i+1:LATN', 'nomn'), -0.09604),\n",
        " (('i+1:LATN', 'nomn'), -0.096137),\n",
        " (('i+1:plur,femn', 'accs'), -0.097238),\n",
        " (('i+1:tran,3per', 'accs'), -0.100565),\n",
        " (('i+1:token:,', 'datv'), -0.100701),\n",
        " (('unambig:i+1:masc', 'accs'), -0.107425),\n",
        " (('i+1:token:\u0432\u043e', 'gent'), -0.107614),\n",
        " (('unambig:i+1:ADVB', 'gent'), -0.114803),\n",
        " (('unambig:i+1:tran,INFN', 'nomn'), -0.118744),\n",
        " (('unambig:i+1:tran,perf', 'NA'), -0.125487),\n",
        " (('i+1:sing,perf', 'datv'), -0.134353),\n",
        " (('i+1:sing,Name', 'nomn'), -0.137249),\n",
        " (('i+1:Name', 'nomn'), -0.13794),\n",
        " (('i+1:Name,NOUN', 'nomn'), -0.13794),\n",
        " (('i+1:anim,Name', 'nomn'), -0.13794),\n",
        " (('i+1:tran,INFN', 'nomn'), -0.141119),\n",
        " (('i+1:token:,', 'nomn'), -0.143049),\n",
        " (('i+1:gent', 'gent'), -0.157299),\n",
        " (('i+1:neut', 'gent'), -0.159759),\n",
        " (('i+1:ADVB', 'nomn'), -0.161109),\n",
        " (('i+1:token:\u0438', 'accs'), -0.170186),\n",
        " (('unambig:i+1:plur,inan', 'nomn'), -0.180146),\n",
        " (('i+1:masc,inan', 'nomn'), -0.185068),\n",
        " (('unambig:i+1:past', 'datv'), -0.192722),\n",
        " (('i+1:PNCT', 'accs'), -0.21089),\n",
        " (('unambig:i+1:PNCT', 'accs'), -0.21089),\n",
        " (('unambig:i+1:NPRO', 'nomn'), -0.216683),\n",
        " (('i+1:intr', 'accs'), -0.231986),\n",
        " (('i+1:sing', 'ablt'), -0.235879),\n",
        " (('unambig:i+1:neut', 'gent'), -0.239524),\n",
        " (('i+1:token:.', 'accs'), -0.246141),\n",
        " (('i+1:sing,3per', 'accs'), -0.285583),\n",
        " (('i+1:PREP', 'NA'), -0.290563),\n",
        " (('unambig:i+1:tran,plur', 'nomn'), -0.296729),\n",
        " (('unambig:i+1:inan,gent', 'nomn'), -0.300236),\n",
        " (('unambig:i+1:gent,NOUN', 'nomn'), -0.301395),\n",
        " (('unambig:i+1:gent', 'nomn'), -0.310038),\n",
        " (('i+1:femn', 'accs'), -0.314944),\n",
        " (('i+1:datv,NOUN', 'ablt'), -0.318586),\n",
        " (('i+1:tran,plur', 'nomn'), -0.326114),\n",
        " (('i+1:token:!', 'gent'), -0.33844),\n",
        " (('unambig:i+1:INFN', 'nomn'), -0.356457),\n",
        " (('i+1:token:;', 'nomn'), -0.367099),\n",
        " (('i+1:pres,intr', 'gent'), -0.378179),\n",
        " (('i+1:INFN', 'nomn'), -0.405895),\n",
        " (('i+1:impf', 'gent'), -0.419514),\n",
        " (('i+1:pres,PRED', 'datv'), -0.434409),\n",
        " (('i+1:PRED', 'datv'), -0.434409),\n",
        " (('i+1:NOUN', 'ablt'), -0.462978),\n",
        " (('i+1:token:!', 'accs'), -0.473565),\n",
        " (('i+1:token:.', 'nomn'), -0.48155),\n",
        " (('unambig:i+1:nomn,masc', 'accs'), -0.515454),\n",
        " (('i+1:token::', 'accs'), -0.547935),\n",
        " (('unambig:i+1:PREP', 'datv'), -0.569685),\n",
        " (('i+1:3per', 'accs'), -0.569835),\n",
        " (('i+1:token:\u0438', 'NA'), -0.637569),\n",
        " (('i+1:token:\u0441\u043c\u0438', 'gent'), -0.655599),\n",
        " (('i+1:token:?', 'NA'), -0.694424),\n",
        " (('i+1:token:\u0433\u043e\u0439\u0438', 'gent'), -0.749931),\n",
        " (('unambig:i+1:femn', 'accs'), -0.798648),\n",
        " (('i+1:token:\u00bb', 'nomn'), -0.853486),\n",
        " (('i+1:token:\u2026', 'nomn'), -0.935337),\n",
        " (('i+1:token:\u043a', 'gent'), -1.054533),\n",
        " (('i+1:plur', 'ablt'), -1.675221),\n",
        " (('i+1:token:\u00bb', 'NA'), -1.772177),\n",
        " (('i+1:token:(', 'gent'), -1.826416)]"
       ]
      }
     ],
     "prompt_number": 30
    },
    {
     "cell_type": "code",
     "collapsed": false,
     "input": [
      "def _best_parse(tok):\n",
      "    try:\n",
      "        return m.parse(tok)[0]\n",
      "    except IndexError:\n",
      "        return m.parse('FOO')[0]\n",
      "    \n",
      "def _partial_tag(y):\n",
      "    return y\n",
      "    return [tag.split(',')[1] for tag in y]\n",
      "\n",
      "def print_results(fp):\n",
      "    fp.write(\"\u0442\u043e\u043a\u0435\u043d                true           crf                pymorphy2        result\\n\")\n",
      "    fp.write(\"=\"*80 + '\\n')\n",
      "    crf_win, crf_err, pym_win, pym_err, fails = 0, 0, 0, 0, 0\n",
      "    for sent in sents_test:\n",
      "        tokens = sent2tokens(sent)\n",
      "        y_true = sent2y(sent)\n",
      "\n",
      "        y_pymorphy2 = [get_outvalue(_best_parse(tok).tag) for tok, _ in sent]\n",
      "        pymorphy2_score = [_best_parse(tok).score for tok, _ in sent]\n",
      "\n",
      "        y_tagger = tagger.tag(sent2features(sent))\n",
      "        tagger_score = [tagger.marginal(y, pos) for pos, y in enumerate(y_tagger)]\n",
      "        \n",
      "        y_true = _partial_tag(y_true)\n",
      "        y_pymorphy2 = _partial_tag(y_pymorphy2)\n",
      "        y_tagger = _partial_tag(y_tagger)\n",
      "\n",
      "        for tok in zip(tokens, y_true, y_tagger, tagger_score, y_pymorphy2, pymorphy2_score):\n",
      "            res = ''\n",
      "            \n",
      "            if tok[1] != tok[2]:\n",
      "                crf_err += 1\n",
      "            \n",
      "            if tok[1] != tok[4]:\n",
      "                pym_err += 1\n",
      "                \n",
      "            if tok[1] == tok[2] and tok[1] != tok[4]:\n",
      "                res = '+crf'                \n",
      "                crf_win += 1\n",
      "            elif tok[1] == tok[4] and tok[1] != tok[2]:\n",
      "                res = '+pym'\n",
      "                pym_win += 1\n",
      "            elif tok[1] != tok[4] and tok[1] != tok[2]:\n",
      "                res = '!'\n",
      "                fails += 1\n",
      "            \n",
      "            tag_scored = \"%-10s %0.3f\" % (tok[2], tok[3])\n",
      "            pym_scored = \"%-10s %0.3f\" % (tok[4], tok[5])\n",
      "            fp.write(\"%-20s %-14s %-18s %-16s %-14s\\n\" % (tok[0], tok[1], tag_scored, pym_scored, res))\n",
      "        fp.write(\"CRF: %s err, fix %s (+%s), pymorphy2: %s err, fix %s, failed: %s\\n\" % (\n",
      "                    crf_err, crf_win, crf_win-pym_win, pym_err, pym_win, fails))\n",
      "        fp.write(\"-\"*70 + '\\n')\n",
      "    \n",
      "    print(\"CRF: %s err, fix %s (+%s), pymorphy2: %s err, fix %s, failed: %s\\n\" % (\n",
      "                crf_err, crf_win, crf_win-pym_win, pym_err, pym_win, fails))\n",
      "    \n",
      "with open('results/res20.txt', 'wt', encoding='utf8') as f:\n",
      "    print_results(f)        "
     ],
     "language": "python",
     "metadata": {},
     "outputs": [
      {
       "output_type": "stream",
       "stream": "stdout",
       "text": [
        "CRF: 118 err, fix 97 (+70), pymorphy2: 188 err, fix 27, failed: 91\n",
        "\n"
       ]
      }
     ],
     "prompt_number": 33
    },
    {
     "cell_type": "code",
     "collapsed": false,
     "input": [
      "from pymorphy2.tokenizers import simple_word_tokenize\n",
      "\n",
      "\n",
      "def tag_text(tokens):\n",
      "    features = tokens2features(tokens)\n",
      "    \n",
      "#     print(\"gent\")\n",
      "#     for feat, w in features[2].items():\n",
      "#         if (feat, 'ablt') in info.state_features:\n",
      "#             print(\"%s %s\" % (feat, w * info.state_features[(feat, 'ablt')]))\n",
      "            \n",
      "#     print(\"\\naccs\")\n",
      "#     for feat, w in features[2].items():\n",
      "#         if (feat, 'accs') in info.state_features:\n",
      "#             print(\"%s %s\" % (feat, w * info.state_features[(feat, 'accs')]))\n",
      "    IDX = 0\n",
      "        \n",
      "    print(\"ACTIVE:\")\n",
      "    for feat, w in features[IDX].items():\n",
      "        state_ablt = (feat, 'ablt')\n",
      "        state_datv = (feat, 'datv')\n",
      "        \n",
      "        if state_ablt in info.state_features:\n",
      "            print(\"%s %s\" % (state_ablt, w * info.state_features[state_ablt]))\n",
      "        if state_datv in info.state_features:\n",
      "            print(\"%s %s\" % (state_datv, w * info.state_features[state_datv]))\n",
      "                \n",
      "\n",
      "#     print(\"\\nINACTIVE:\")\n",
      "#     for feat, w in features[2].items():\n",
      "#         if feat in info.attributes:\n",
      "#             print(feat, w)\n",
      "                \n",
      "    \n",
      "    res = tagger.tag(features)\n",
      "    print(tagger.marginal('ablt', IDX))\n",
      "    print(tagger.marginal('datv', IDX))\n",
      "    return res\n",
      "\n",
      "def tag_text_pymorphy2(tokens):\n",
      "    return [get_outvalue(m.parse(tok)[0].tag) for tok in tokens]\n",
      "\n",
      "\n",
      "def demo(text):    \n",
      "    tokens = simple_word_tokenize(text)\n",
      "    for tok, tag_tag, pym_tag in zip(tokens, tag_text(tokens), tag_text_pymorphy2(tokens)):\n",
      "        print(tok, tag_tag, pym_tag, sep='/', end=' ')\n",
      "    \n",
      "#demo('''\u043f\u043e\u0442\u0435\u044f \u043f\u044c\u044e \u043a\u0438\u043d\u0434\u0437\u043c\u0430\u0440\u0430\u0443\u043b\u0438 \u043a\u0440\u0438\u0447\u0443 \u043f\u0435\u0440\u043d\u0430\u0442\u044b\u043c \u0433\u0443\u043b\u0438-\u0433\u0443\u043b\u0438''')\n",
      "#demo(\"\u043d\u0435 \u0432\u0438\u0434\u0438\u0442 \u0431\u0443\u0434\u0443\u0449\u0435\u0433\u043e\")\n",
      "# demo('''\u043d\u0435\u0432\u043e\u0437\u043c\u043e\u0436\u043d\u043e \u0443\u043f\u0440\u0435\u043a\u043d\u0443\u0442\u044c \u0432 \u043e\u0442\u043d\u043e\u0448\u0435\u043d\u0438\u0438 \u043a \u0432\u043e\u0437\u043c\u043e\u0436\u043d\u044b\u043c \u0440\u043e\u0441\u0441\u0438\u0439\u0441\u043a\u043e-\u0430\u0437\u0435\u0440\u0431\u0430\u0439\u0434\u0436\u0430\u043d\u0441\u043a\u0438\u043c \u0437\u0430\u043a\u0443\u043b\u0438\u0441\u043d\u044b\u043c \u0434\u043e\u0433\u043e\u0432\u043e\u0440\u0435\u043d\u043d\u043e\u0441\u0442\u044f\u043c''')\n",
      "demo('\u0412 \u043f\u043e\u0441\u0435\u043b\u043a\u0435 \u0414\u0430\u043b\u044c\u043d\u0438\u0439 \u0418\u0440\u043a\u0443\u0442\u0441\u043a\u043e\u0439 \u043e\u0431\u043b\u0430\u0441\u0442\u0438 \u0441\u0433\u043e\u0440\u0435\u043b\u0438 22 \u0436\u0438\u043b\u044b\u0445 \u0434\u043e\u043c\u0430')"
     ],
     "language": "python",
     "metadata": {},
     "outputs": [
      {
       "output_type": "stream",
       "stream": "stdout",
       "text": [
        "ACTIVE:\n",
        "('i+1:inan,NOUN', 'ablt') -0.088529\n",
        "('BOS', 'ablt') -0.08872\n",
        "('BOS', 'datv') 0.700913\n",
        "('i+1:sing', 'ablt') -0.235879\n",
        "('i+1:inan', 'ablt') -0.088959\n",
        "('i+1:NOUN', 'ablt') -0.462978\n",
        "('bias', 'ablt') -0.583812\n",
        "('bias', 'datv') -0.106407\n",
        "('unambig:i+1:sing,NOUN', 'ablt') 0.000951\n",
        "6.664286729561451e-06\n",
        "4.23518938255024e-05\n",
        "\u0412/NA/NA \u043f\u043e\u0441\u0435\u043b\u043a\u0435/loct/loct \u0414\u0430\u043b\u044c\u043d\u0438\u0439/accs/accs \u0418\u0440\u043a\u0443\u0442\u0441\u043a\u043e\u0439/loct/gent \u043e\u0431\u043b\u0430\u0441\u0442\u0438/loct/loct \u0441\u0433\u043e\u0440\u0435\u043b\u0438/NA/NA 22/NA/NA \u0436\u0438\u043b\u044b\u0445/gent/gent \u0434\u043e\u043c\u0430/gent/gent "
       ]
      }
     ],
     "prompt_number": 34
    },
    {
     "cell_type": "code",
     "collapsed": false,
     "input": [
      "class DisambigCase(object):\n",
      "    def __init__(self, morph, tagger_path):\n",
      "        self.tagger = pycrfsuite.Tagger()\n",
      "        self.tagger.open(tagger_path)\n",
      "        self.morph = morph\n",
      "        \n",
      "    def tag(self, tokens):\n",
      "        if isinstance(tokens, str):\n",
      "            tokens = simple_word_tokenize(tokens)\n",
      "        \n",
      "        unkn = self.morph.parse('FOO')[0]\n",
      "        pym_parses = [self.morph.parse(tok) for tok in tokens]\n",
      "        pym_parses0 = [p[0] if p else unkn for p in pym_parses]\n",
      "        \n",
      "        \n",
      "        return pym_parses0"
     ],
     "language": "python",
     "metadata": {},
     "outputs": [],
     "prompt_number": 35
    },
    {
     "cell_type": "code",
     "collapsed": false,
     "input": [
      "disambig = DisambigCase(m, 'models/model-12.crfsuite')\n",
      "disambig.tag(\"\u043f\u043e\u0442\u0435\u044f, \u043f\u044c\u044e \u043a\u0438\u043d\u0434\u0437\u043c\u0430\u0440\u0430\u0443\u043b\u0438 \u043a\u0440\u0438\u0447\u0443 \u043f\u0435\u0440\u043d\u0430\u0442\u044b\u043c \u0433\u0443\u043b\u0438-\u0433\u0443\u043b\u0438\")"
     ],
     "language": "python",
     "metadata": {},
     "outputs": [
      {
       "metadata": {},
       "output_type": "pyout",
       "prompt_number": 34,
       "text": [
        "[Parse(word='\u043f\u043e\u0442\u0435\u044f', tag=OpencorporaTag('GRND,impf,intr pres'), normal_form='\u043f\u043e\u0442\u0435\u0442\u044c', score=1.0, methods_stack=((<DictionaryAnalyzer>, '\u043f\u043e\u0442\u0435\u044f', 14, 67),)),\n",
        " Parse(word=',', tag=OpencorporaTag('PNCT'), normal_form=',', score=1.0, methods_stack=((<PunctuationAnalyzer>, ','),)),\n",
        " Parse(word='\u043f\u044c\u044e', tag=OpencorporaTag('VERB,impf,tran sing,1per,pres,indc'), normal_form='\u043f\u0438\u0442\u044c', score=1.0, methods_stack=((<DictionaryAnalyzer>, '\u043f\u044c\u044e', 442, 1),)),\n",
        " Parse(word='\u043a\u0438\u043d\u0434\u0437\u043c\u0430\u0440\u0430\u0443\u043b\u0438', tag=OpencorporaTag('NOUN,inan,neut,Sgtm,Fixd sing,nomn'), normal_form='\u043a\u0438\u043d\u0434\u0437\u043c\u0430\u0440\u0430\u0443\u043b\u0438', score=0.16666666666666666, methods_stack=((<DictionaryAnalyzer>, '\u043a\u0438\u043d\u0434\u0437\u043c\u0430\u0440\u0430\u0443\u043b\u0438', 146, 0),)),\n",
        " Parse(word='\u043a\u0440\u0438\u0447\u0443', tag=OpencorporaTag('VERB,impf,intr sing,1per,pres,indc'), normal_form='\u043a\u0440\u0438\u0447\u0430\u0442\u044c', score=1.0, methods_stack=((<DictionaryAnalyzer>, '\u043a\u0440\u0438\u0447\u0443', 534, 1),)),\n",
        " Parse(word='\u043f\u0435\u0440\u043d\u0430\u0442\u044b\u043c', tag=OpencorporaTag('ADJF,Qual masc,sing,ablt'), normal_form='\u043f\u0435\u0440\u043d\u0430\u0442\u044b\u0439', score=0.2, methods_stack=((<DictionaryAnalyzer>, '\u043f\u0435\u0440\u043d\u0430\u0442\u044b\u043c', 4, 5),)),\n",
        " Parse(word='\u0433\u0443\u043b\u0438-\u0433\u0443\u043b\u0438', tag=OpencorporaTag('INTJ'), normal_form='\u0433\u0443\u043b\u0438-\u0433\u0443\u043b\u0438', score=1.0, methods_stack=((<DictionaryAnalyzer>, '\u0433\u0443\u043b\u0438-\u0433\u0443\u043b\u0438', 20, 0),))]"
       ]
      }
     ],
     "prompt_number": 34
    },
    {
     "cell_type": "code",
     "collapsed": false,
     "input": [
      "disambig = DisambigCase(m, 'models/model-12.crfsuite')\n",
      "disambig.tag(\"\u043f\u043e\u0442\u0435\u044f, \u043f\u044c\u044e \u043a\u0438\u043d\u0434\u0437\u043c\u0430\u0440\u0430\u0443\u043b\u0438 \u043a\u0440\u0438\u0447\u0443 \u043f\u0435\u0440\u043d\u0430\u0442\u044b\u043c \u0433\u0443\u043b\u0438-\u0433\u0443\u043b\u0438\")"
     ],
     "language": "python",
     "metadata": {},
     "outputs": [
      {
       "metadata": {},
       "output_type": "pyout",
       "prompt_number": 36,
       "text": [
        "[Parse(word='\u043f\u043e\u0442\u0435\u044f', tag=OpencorporaTag('GRND,impf,intr pres'), normal_form='\u043f\u043e\u0442\u0435\u0442\u044c', score=1.0, methods_stack=((<DictionaryAnalyzer>, '\u043f\u043e\u0442\u0435\u044f', 14, 67),)),\n",
        " Parse(word=',', tag=OpencorporaTag('PNCT'), normal_form=',', score=1.0, methods_stack=((<PunctuationAnalyzer>, ','),)),\n",
        " Parse(word='\u043f\u044c\u044e', tag=OpencorporaTag('VERB,impf,tran sing,1per,pres,indc'), normal_form='\u043f\u0438\u0442\u044c', score=1.0, methods_stack=((<DictionaryAnalyzer>, '\u043f\u044c\u044e', 442, 1),)),\n",
        " Parse(word='\u043a\u0438\u043d\u0434\u0437\u043c\u0430\u0440\u0430\u0443\u043b\u0438', tag=OpencorporaTag('NOUN,inan,neut,Sgtm,Fixd sing,nomn'), normal_form='\u043a\u0438\u043d\u0434\u0437\u043c\u0430\u0440\u0430\u0443\u043b\u0438', score=0.16666666666666666, methods_stack=((<DictionaryAnalyzer>, '\u043a\u0438\u043d\u0434\u0437\u043c\u0430\u0440\u0430\u0443\u043b\u0438', 146, 0),)),\n",
        " Parse(word='\u043a\u0440\u0438\u0447\u0443', tag=OpencorporaTag('VERB,impf,intr sing,1per,pres,indc'), normal_form='\u043a\u0440\u0438\u0447\u0430\u0442\u044c', score=1.0, methods_stack=((<DictionaryAnalyzer>, '\u043a\u0440\u0438\u0447\u0443', 534, 1),)),\n",
        " Parse(word='\u043f\u0435\u0440\u043d\u0430\u0442\u044b\u043c', tag=OpencorporaTag('ADJF,Qual masc,sing,ablt'), normal_form='\u043f\u0435\u0440\u043d\u0430\u0442\u044b\u0439', score=0.2, methods_stack=((<DictionaryAnalyzer>, '\u043f\u0435\u0440\u043d\u0430\u0442\u044b\u043c', 4, 5),)),\n",
        " Parse(word='\u0433\u0443\u043b\u0438-\u0433\u0443\u043b\u0438', tag=OpencorporaTag('INTJ'), normal_form='\u0433\u0443\u043b\u0438-\u0433\u0443\u043b\u0438', score=1.0, methods_stack=((<DictionaryAnalyzer>, '\u0433\u0443\u043b\u0438-\u0433\u0443\u043b\u0438', 20, 0),))]"
       ]
      }
     ],
     "prompt_number": 36
    },
    {
     "cell_type": "code",
     "collapsed": false,
     "input": [],
     "language": "python",
     "metadata": {},
     "outputs": []
    }
   ],
   "metadata": {}
  }
 ]
}